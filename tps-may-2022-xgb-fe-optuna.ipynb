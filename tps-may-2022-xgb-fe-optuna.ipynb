{
 "cells": [
  {
   "cell_type": "markdown",
   "id": "260516b9",
   "metadata": {
    "papermill": {
     "duration": 0.037572,
     "end_time": "2022-05-04T11:35:06.847426",
     "exception": false,
     "start_time": "2022-05-04T11:35:06.809854",
     "status": "completed"
    },
    "tags": []
   },
   "source": [
    "<h2 style=\"color:#2c3f51\"> TPS MAY 2022 </h2>"
   ]
  },
  {
   "cell_type": "markdown",
   "id": "275ceb12",
   "metadata": {
    "papermill": {
     "duration": 0.035124,
     "end_time": "2022-05-04T11:35:06.920446",
     "exception": false,
     "start_time": "2022-05-04T11:35:06.885322",
     "status": "completed"
    },
    "tags": []
   },
   "source": [
    "- Try XGBoost\n",
    "- Experiment with new features\n",
    "- Search best params with Optuna \n",
    "- Make Cross Validation"
   ]
  },
  {
   "cell_type": "code",
   "execution_count": 1,
   "id": "aed45401",
   "metadata": {
    "_cell_guid": "b1076dfc-b9ad-4769-8c92-a6c4dae69d19",
    "_uuid": "8f2839f25d086af736a60e9eeb907d3b93b6e0e5",
    "execution": {
     "iopub.execute_input": "2022-05-04T11:35:06.992678Z",
     "iopub.status.busy": "2022-05-04T11:35:06.992269Z",
     "iopub.status.idle": "2022-05-04T11:35:08.594982Z",
     "shell.execute_reply": "2022-05-04T11:35:08.594271Z"
    },
    "papermill": {
     "duration": 1.641371,
     "end_time": "2022-05-04T11:35:08.597182",
     "exception": false,
     "start_time": "2022-05-04T11:35:06.955811",
     "status": "completed"
    },
    "tags": []
   },
   "outputs": [],
   "source": [
    "import numpy as np # linear algebra\n",
    "import pandas as pd # data processing, CSV file I/O (e.g. pd.read_csv)\n",
    "\n",
    "import optuna\n",
    "import gc"
   ]
  },
  {
   "cell_type": "markdown",
   "id": "1afc40cf",
   "metadata": {
    "papermill": {
     "duration": 0.034732,
     "end_time": "2022-05-04T11:35:08.666999",
     "exception": false,
     "start_time": "2022-05-04T11:35:08.632267",
     "status": "completed"
    },
    "tags": []
   },
   "source": [
    "# Loading Data"
   ]
  },
  {
   "cell_type": "code",
   "execution_count": 2,
   "id": "a8f1ab00",
   "metadata": {
    "execution": {
     "iopub.execute_input": "2022-05-04T11:35:08.739948Z",
     "iopub.status.busy": "2022-05-04T11:35:08.739662Z",
     "iopub.status.idle": "2022-05-04T11:35:21.205741Z",
     "shell.execute_reply": "2022-05-04T11:35:21.205087Z"
    },
    "papermill": {
     "duration": 12.505355,
     "end_time": "2022-05-04T11:35:21.207459",
     "exception": false,
     "start_time": "2022-05-04T11:35:08.702104",
     "status": "completed"
    },
    "tags": []
   },
   "outputs": [
    {
     "data": {
      "text/plain": [
       "((900000, 33), (700000, 32))"
      ]
     },
     "execution_count": 2,
     "metadata": {},
     "output_type": "execute_result"
    }
   ],
   "source": [
    "train = pd.read_csv(\"../input/tabular-playground-series-may-2022/train.csv\")\n",
    "test = pd.read_csv(\"../input/tabular-playground-series-may-2022/test.csv\")\n",
    "\n",
    "train.shape, test.shape"
   ]
  },
  {
   "cell_type": "markdown",
   "id": "609b0321",
   "metadata": {
    "papermill": {
     "duration": 0.033893,
     "end_time": "2022-05-04T11:35:21.276699",
     "exception": false,
     "start_time": "2022-05-04T11:35:21.242806",
     "status": "completed"
    },
    "tags": []
   },
   "source": [
    "# Understanding Data"
   ]
  },
  {
   "cell_type": "markdown",
   "id": "95d87198",
   "metadata": {
    "papermill": {
     "duration": 0.036575,
     "end_time": "2022-05-04T11:35:21.348545",
     "exception": false,
     "start_time": "2022-05-04T11:35:21.311970",
     "status": "completed"
    },
    "tags": []
   },
   "source": [
    "- Describe"
   ]
  },
  {
   "cell_type": "code",
   "execution_count": 3,
   "id": "e3da5b41",
   "metadata": {
    "execution": {
     "iopub.execute_input": "2022-05-04T11:35:21.421944Z",
     "iopub.status.busy": "2022-05-04T11:35:21.421674Z",
     "iopub.status.idle": "2022-05-04T11:35:22.401771Z",
     "shell.execute_reply": "2022-05-04T11:35:22.400949Z"
    },
    "papermill": {
     "duration": 1.018463,
     "end_time": "2022-05-04T11:35:22.404024",
     "exception": false,
     "start_time": "2022-05-04T11:35:21.385561",
     "status": "completed"
    },
    "tags": []
   },
   "outputs": [
    {
     "data": {
      "text/html": [
       "<div>\n",
       "<style scoped>\n",
       "    .dataframe tbody tr th:only-of-type {\n",
       "        vertical-align: middle;\n",
       "    }\n",
       "\n",
       "    .dataframe tbody tr th {\n",
       "        vertical-align: top;\n",
       "    }\n",
       "\n",
       "    .dataframe thead th {\n",
       "        text-align: right;\n",
       "    }\n",
       "</style>\n",
       "<table border=\"1\" class=\"dataframe\">\n",
       "  <thead>\n",
       "    <tr style=\"text-align: right;\">\n",
       "      <th></th>\n",
       "      <th>id</th>\n",
       "      <th>f_00</th>\n",
       "      <th>f_01</th>\n",
       "      <th>f_02</th>\n",
       "      <th>f_03</th>\n",
       "      <th>f_04</th>\n",
       "      <th>f_05</th>\n",
       "      <th>f_06</th>\n",
       "      <th>f_07</th>\n",
       "      <th>f_08</th>\n",
       "      <th>...</th>\n",
       "      <th>f_21</th>\n",
       "      <th>f_22</th>\n",
       "      <th>f_23</th>\n",
       "      <th>f_24</th>\n",
       "      <th>f_25</th>\n",
       "      <th>f_26</th>\n",
       "      <th>f_28</th>\n",
       "      <th>f_29</th>\n",
       "      <th>f_30</th>\n",
       "      <th>target</th>\n",
       "    </tr>\n",
       "  </thead>\n",
       "  <tbody>\n",
       "    <tr>\n",
       "      <th>count</th>\n",
       "      <td>900000.000000</td>\n",
       "      <td>900000.000000</td>\n",
       "      <td>900000.000000</td>\n",
       "      <td>900000.000000</td>\n",
       "      <td>900000.000000</td>\n",
       "      <td>900000.000000</td>\n",
       "      <td>900000.000000</td>\n",
       "      <td>900000.000000</td>\n",
       "      <td>900000.000000</td>\n",
       "      <td>900000.000000</td>\n",
       "      <td>...</td>\n",
       "      <td>900000.000000</td>\n",
       "      <td>900000.000000</td>\n",
       "      <td>900000.000000</td>\n",
       "      <td>900000.000000</td>\n",
       "      <td>900000.000000</td>\n",
       "      <td>900000.000000</td>\n",
       "      <td>900000.000000</td>\n",
       "      <td>900000.000000</td>\n",
       "      <td>900000.000000</td>\n",
       "      <td>900000.000000</td>\n",
       "    </tr>\n",
       "    <tr>\n",
       "      <th>mean</th>\n",
       "      <td>449999.500000</td>\n",
       "      <td>-0.000286</td>\n",
       "      <td>0.001165</td>\n",
       "      <td>0.001174</td>\n",
       "      <td>-0.001368</td>\n",
       "      <td>-0.000571</td>\n",
       "      <td>0.000284</td>\n",
       "      <td>-0.000709</td>\n",
       "      <td>2.031460</td>\n",
       "      <td>2.057998</td>\n",
       "      <td>...</td>\n",
       "      <td>-0.156307</td>\n",
       "      <td>-0.009273</td>\n",
       "      <td>-0.369459</td>\n",
       "      <td>-0.342738</td>\n",
       "      <td>0.176549</td>\n",
       "      <td>0.357591</td>\n",
       "      <td>-0.380876</td>\n",
       "      <td>0.345661</td>\n",
       "      <td>1.002654</td>\n",
       "      <td>0.486488</td>\n",
       "    </tr>\n",
       "    <tr>\n",
       "      <th>std</th>\n",
       "      <td>259807.765473</td>\n",
       "      <td>0.998888</td>\n",
       "      <td>0.999193</td>\n",
       "      <td>1.000514</td>\n",
       "      <td>1.000175</td>\n",
       "      <td>1.000167</td>\n",
       "      <td>0.999875</td>\n",
       "      <td>0.999942</td>\n",
       "      <td>1.656172</td>\n",
       "      <td>1.590955</td>\n",
       "      <td>...</td>\n",
       "      <td>2.484706</td>\n",
       "      <td>2.450797</td>\n",
       "      <td>2.453405</td>\n",
       "      <td>2.386941</td>\n",
       "      <td>2.416959</td>\n",
       "      <td>2.476020</td>\n",
       "      <td>238.773054</td>\n",
       "      <td>0.475584</td>\n",
       "      <td>0.818989</td>\n",
       "      <td>0.499818</td>\n",
       "    </tr>\n",
       "    <tr>\n",
       "      <th>min</th>\n",
       "      <td>0.000000</td>\n",
       "      <td>-4.599856</td>\n",
       "      <td>-4.682199</td>\n",
       "      <td>-4.642676</td>\n",
       "      <td>-4.658816</td>\n",
       "      <td>-4.748501</td>\n",
       "      <td>-4.750214</td>\n",
       "      <td>-4.842919</td>\n",
       "      <td>0.000000</td>\n",
       "      <td>0.000000</td>\n",
       "      <td>...</td>\n",
       "      <td>-13.310146</td>\n",
       "      <td>-11.853530</td>\n",
       "      <td>-12.301097</td>\n",
       "      <td>-11.416189</td>\n",
       "      <td>-11.918306</td>\n",
       "      <td>-14.300577</td>\n",
       "      <td>-1229.753052</td>\n",
       "      <td>0.000000</td>\n",
       "      <td>0.000000</td>\n",
       "      <td>0.000000</td>\n",
       "    </tr>\n",
       "    <tr>\n",
       "      <th>25%</th>\n",
       "      <td>224999.750000</td>\n",
       "      <td>-0.675490</td>\n",
       "      <td>-0.675162</td>\n",
       "      <td>-0.674369</td>\n",
       "      <td>-0.676114</td>\n",
       "      <td>-0.675909</td>\n",
       "      <td>-0.673437</td>\n",
       "      <td>-0.674876</td>\n",
       "      <td>1.000000</td>\n",
       "      <td>1.000000</td>\n",
       "      <td>...</td>\n",
       "      <td>-1.820063</td>\n",
       "      <td>-1.645585</td>\n",
       "      <td>-2.019739</td>\n",
       "      <td>-1.955956</td>\n",
       "      <td>-1.440424</td>\n",
       "      <td>-1.261598</td>\n",
       "      <td>-159.427418</td>\n",
       "      <td>0.000000</td>\n",
       "      <td>0.000000</td>\n",
       "      <td>0.000000</td>\n",
       "    </tr>\n",
       "    <tr>\n",
       "      <th>50%</th>\n",
       "      <td>449999.500000</td>\n",
       "      <td>0.001144</td>\n",
       "      <td>0.002014</td>\n",
       "      <td>0.002218</td>\n",
       "      <td>-0.002227</td>\n",
       "      <td>-0.001662</td>\n",
       "      <td>-0.000438</td>\n",
       "      <td>-0.001492</td>\n",
       "      <td>2.000000</td>\n",
       "      <td>2.000000</td>\n",
       "      <td>...</td>\n",
       "      <td>-0.152668</td>\n",
       "      <td>0.030850</td>\n",
       "      <td>-0.390966</td>\n",
       "      <td>-0.340746</td>\n",
       "      <td>0.160912</td>\n",
       "      <td>0.404212</td>\n",
       "      <td>-0.519808</td>\n",
       "      <td>0.000000</td>\n",
       "      <td>1.000000</td>\n",
       "      <td>0.000000</td>\n",
       "    </tr>\n",
       "    <tr>\n",
       "      <th>75%</th>\n",
       "      <td>674999.250000</td>\n",
       "      <td>0.674337</td>\n",
       "      <td>0.675021</td>\n",
       "      <td>0.677505</td>\n",
       "      <td>0.672544</td>\n",
       "      <td>0.673789</td>\n",
       "      <td>0.675028</td>\n",
       "      <td>0.674749</td>\n",
       "      <td>3.000000</td>\n",
       "      <td>3.000000</td>\n",
       "      <td>...</td>\n",
       "      <td>1.507071</td>\n",
       "      <td>1.661676</td>\n",
       "      <td>1.255408</td>\n",
       "      <td>1.266673</td>\n",
       "      <td>1.795928</td>\n",
       "      <td>2.028219</td>\n",
       "      <td>158.987357</td>\n",
       "      <td>1.000000</td>\n",
       "      <td>2.000000</td>\n",
       "      <td>1.000000</td>\n",
       "    </tr>\n",
       "    <tr>\n",
       "      <th>max</th>\n",
       "      <td>899999.000000</td>\n",
       "      <td>4.749301</td>\n",
       "      <td>4.815699</td>\n",
       "      <td>4.961982</td>\n",
       "      <td>4.454920</td>\n",
       "      <td>4.948983</td>\n",
       "      <td>4.971881</td>\n",
       "      <td>4.822668</td>\n",
       "      <td>15.000000</td>\n",
       "      <td>16.000000</td>\n",
       "      <td>...</td>\n",
       "      <td>14.455426</td>\n",
       "      <td>11.344080</td>\n",
       "      <td>12.247100</td>\n",
       "      <td>12.389844</td>\n",
       "      <td>12.529179</td>\n",
       "      <td>12.913041</td>\n",
       "      <td>1229.562577</td>\n",
       "      <td>1.000000</td>\n",
       "      <td>2.000000</td>\n",
       "      <td>1.000000</td>\n",
       "    </tr>\n",
       "  </tbody>\n",
       "</table>\n",
       "<p>8 rows × 32 columns</p>\n",
       "</div>"
      ],
      "text/plain": [
       "                  id           f_00           f_01           f_02  \\\n",
       "count  900000.000000  900000.000000  900000.000000  900000.000000   \n",
       "mean   449999.500000      -0.000286       0.001165       0.001174   \n",
       "std    259807.765473       0.998888       0.999193       1.000514   \n",
       "min         0.000000      -4.599856      -4.682199      -4.642676   \n",
       "25%    224999.750000      -0.675490      -0.675162      -0.674369   \n",
       "50%    449999.500000       0.001144       0.002014       0.002218   \n",
       "75%    674999.250000       0.674337       0.675021       0.677505   \n",
       "max    899999.000000       4.749301       4.815699       4.961982   \n",
       "\n",
       "                f_03           f_04           f_05           f_06  \\\n",
       "count  900000.000000  900000.000000  900000.000000  900000.000000   \n",
       "mean       -0.001368      -0.000571       0.000284      -0.000709   \n",
       "std         1.000175       1.000167       0.999875       0.999942   \n",
       "min        -4.658816      -4.748501      -4.750214      -4.842919   \n",
       "25%        -0.676114      -0.675909      -0.673437      -0.674876   \n",
       "50%        -0.002227      -0.001662      -0.000438      -0.001492   \n",
       "75%         0.672544       0.673789       0.675028       0.674749   \n",
       "max         4.454920       4.948983       4.971881       4.822668   \n",
       "\n",
       "                f_07           f_08  ...           f_21           f_22  \\\n",
       "count  900000.000000  900000.000000  ...  900000.000000  900000.000000   \n",
       "mean        2.031460       2.057998  ...      -0.156307      -0.009273   \n",
       "std         1.656172       1.590955  ...       2.484706       2.450797   \n",
       "min         0.000000       0.000000  ...     -13.310146     -11.853530   \n",
       "25%         1.000000       1.000000  ...      -1.820063      -1.645585   \n",
       "50%         2.000000       2.000000  ...      -0.152668       0.030850   \n",
       "75%         3.000000       3.000000  ...       1.507071       1.661676   \n",
       "max        15.000000      16.000000  ...      14.455426      11.344080   \n",
       "\n",
       "                f_23           f_24           f_25           f_26  \\\n",
       "count  900000.000000  900000.000000  900000.000000  900000.000000   \n",
       "mean       -0.369459      -0.342738       0.176549       0.357591   \n",
       "std         2.453405       2.386941       2.416959       2.476020   \n",
       "min       -12.301097     -11.416189     -11.918306     -14.300577   \n",
       "25%        -2.019739      -1.955956      -1.440424      -1.261598   \n",
       "50%        -0.390966      -0.340746       0.160912       0.404212   \n",
       "75%         1.255408       1.266673       1.795928       2.028219   \n",
       "max        12.247100      12.389844      12.529179      12.913041   \n",
       "\n",
       "                f_28           f_29           f_30         target  \n",
       "count  900000.000000  900000.000000  900000.000000  900000.000000  \n",
       "mean       -0.380876       0.345661       1.002654       0.486488  \n",
       "std       238.773054       0.475584       0.818989       0.499818  \n",
       "min     -1229.753052       0.000000       0.000000       0.000000  \n",
       "25%      -159.427418       0.000000       0.000000       0.000000  \n",
       "50%        -0.519808       0.000000       1.000000       0.000000  \n",
       "75%       158.987357       1.000000       2.000000       1.000000  \n",
       "max      1229.562577       1.000000       2.000000       1.000000  \n",
       "\n",
       "[8 rows x 32 columns]"
      ]
     },
     "execution_count": 3,
     "metadata": {},
     "output_type": "execute_result"
    }
   ],
   "source": [
    "train.describe()"
   ]
  },
  {
   "cell_type": "code",
   "execution_count": 4,
   "id": "1bf32452",
   "metadata": {
    "execution": {
     "iopub.execute_input": "2022-05-04T11:35:22.484966Z",
     "iopub.status.busy": "2022-05-04T11:35:22.484512Z",
     "iopub.status.idle": "2022-05-04T11:35:23.217482Z",
     "shell.execute_reply": "2022-05-04T11:35:23.216725Z"
    },
    "papermill": {
     "duration": 0.773445,
     "end_time": "2022-05-04T11:35:23.219315",
     "exception": false,
     "start_time": "2022-05-04T11:35:22.445870",
     "status": "completed"
    },
    "tags": []
   },
   "outputs": [
    {
     "data": {
      "text/html": [
       "<div>\n",
       "<style scoped>\n",
       "    .dataframe tbody tr th:only-of-type {\n",
       "        vertical-align: middle;\n",
       "    }\n",
       "\n",
       "    .dataframe tbody tr th {\n",
       "        vertical-align: top;\n",
       "    }\n",
       "\n",
       "    .dataframe thead th {\n",
       "        text-align: right;\n",
       "    }\n",
       "</style>\n",
       "<table border=\"1\" class=\"dataframe\">\n",
       "  <thead>\n",
       "    <tr style=\"text-align: right;\">\n",
       "      <th></th>\n",
       "      <th>id</th>\n",
       "      <th>f_00</th>\n",
       "      <th>f_01</th>\n",
       "      <th>f_02</th>\n",
       "      <th>f_03</th>\n",
       "      <th>f_04</th>\n",
       "      <th>f_05</th>\n",
       "      <th>f_06</th>\n",
       "      <th>f_07</th>\n",
       "      <th>f_08</th>\n",
       "      <th>...</th>\n",
       "      <th>f_20</th>\n",
       "      <th>f_21</th>\n",
       "      <th>f_22</th>\n",
       "      <th>f_23</th>\n",
       "      <th>f_24</th>\n",
       "      <th>f_25</th>\n",
       "      <th>f_26</th>\n",
       "      <th>f_28</th>\n",
       "      <th>f_29</th>\n",
       "      <th>f_30</th>\n",
       "    </tr>\n",
       "  </thead>\n",
       "  <tbody>\n",
       "    <tr>\n",
       "      <th>count</th>\n",
       "      <td>7.000000e+05</td>\n",
       "      <td>700000.000000</td>\n",
       "      <td>700000.000000</td>\n",
       "      <td>700000.000000</td>\n",
       "      <td>700000.000000</td>\n",
       "      <td>700000.000000</td>\n",
       "      <td>700000.000000</td>\n",
       "      <td>700000.000000</td>\n",
       "      <td>700000.000000</td>\n",
       "      <td>700000.000000</td>\n",
       "      <td>...</td>\n",
       "      <td>700000.000000</td>\n",
       "      <td>700000.000000</td>\n",
       "      <td>700000.000000</td>\n",
       "      <td>700000.000000</td>\n",
       "      <td>700000.000000</td>\n",
       "      <td>700000.000000</td>\n",
       "      <td>700000.000000</td>\n",
       "      <td>700000.000000</td>\n",
       "      <td>700000.000000</td>\n",
       "      <td>700000.000000</td>\n",
       "    </tr>\n",
       "    <tr>\n",
       "      <th>mean</th>\n",
       "      <td>1.250000e+06</td>\n",
       "      <td>-0.000087</td>\n",
       "      <td>-0.000732</td>\n",
       "      <td>-0.000385</td>\n",
       "      <td>0.000705</td>\n",
       "      <td>0.000800</td>\n",
       "      <td>-0.000468</td>\n",
       "      <td>0.002550</td>\n",
       "      <td>2.030819</td>\n",
       "      <td>2.056923</td>\n",
       "      <td>...</td>\n",
       "      <td>-0.173972</td>\n",
       "      <td>-0.153938</td>\n",
       "      <td>-0.005623</td>\n",
       "      <td>-0.371983</td>\n",
       "      <td>-0.340683</td>\n",
       "      <td>0.174245</td>\n",
       "      <td>0.356288</td>\n",
       "      <td>0.604213</td>\n",
       "      <td>0.346090</td>\n",
       "      <td>1.003081</td>\n",
       "    </tr>\n",
       "    <tr>\n",
       "      <th>std</th>\n",
       "      <td>2.020727e+05</td>\n",
       "      <td>1.000264</td>\n",
       "      <td>0.997131</td>\n",
       "      <td>1.000317</td>\n",
       "      <td>1.001758</td>\n",
       "      <td>0.999088</td>\n",
       "      <td>1.000249</td>\n",
       "      <td>0.999536</td>\n",
       "      <td>1.655909</td>\n",
       "      <td>1.591726</td>\n",
       "      <td>...</td>\n",
       "      <td>2.397938</td>\n",
       "      <td>2.484198</td>\n",
       "      <td>2.450907</td>\n",
       "      <td>2.452619</td>\n",
       "      <td>2.388938</td>\n",
       "      <td>2.417555</td>\n",
       "      <td>2.477713</td>\n",
       "      <td>238.888993</td>\n",
       "      <td>0.475723</td>\n",
       "      <td>0.819673</td>\n",
       "    </tr>\n",
       "    <tr>\n",
       "      <th>min</th>\n",
       "      <td>9.000000e+05</td>\n",
       "      <td>-4.658018</td>\n",
       "      <td>-4.922718</td>\n",
       "      <td>-4.457561</td>\n",
       "      <td>-4.567419</td>\n",
       "      <td>-4.675301</td>\n",
       "      <td>-5.141356</td>\n",
       "      <td>-4.782164</td>\n",
       "      <td>0.000000</td>\n",
       "      <td>0.000000</td>\n",
       "      <td>...</td>\n",
       "      <td>-11.089910</td>\n",
       "      <td>-12.186778</td>\n",
       "      <td>-11.700814</td>\n",
       "      <td>-12.104478</td>\n",
       "      <td>-11.838417</td>\n",
       "      <td>-13.312784</td>\n",
       "      <td>-13.462486</td>\n",
       "      <td>-1204.243716</td>\n",
       "      <td>0.000000</td>\n",
       "      <td>0.000000</td>\n",
       "    </tr>\n",
       "    <tr>\n",
       "      <th>25%</th>\n",
       "      <td>1.075000e+06</td>\n",
       "      <td>-0.675708</td>\n",
       "      <td>-0.674040</td>\n",
       "      <td>-0.675961</td>\n",
       "      <td>-0.674561</td>\n",
       "      <td>-0.674696</td>\n",
       "      <td>-0.674444</td>\n",
       "      <td>-0.671481</td>\n",
       "      <td>1.000000</td>\n",
       "      <td>1.000000</td>\n",
       "      <td>...</td>\n",
       "      <td>-1.794757</td>\n",
       "      <td>-1.816739</td>\n",
       "      <td>-1.641035</td>\n",
       "      <td>-2.021342</td>\n",
       "      <td>-1.948923</td>\n",
       "      <td>-1.443815</td>\n",
       "      <td>-1.263991</td>\n",
       "      <td>-158.660917</td>\n",
       "      <td>0.000000</td>\n",
       "      <td>0.000000</td>\n",
       "    </tr>\n",
       "    <tr>\n",
       "      <th>50%</th>\n",
       "      <td>1.250000e+06</td>\n",
       "      <td>-0.000395</td>\n",
       "      <td>-0.000241</td>\n",
       "      <td>-0.000723</td>\n",
       "      <td>-0.000294</td>\n",
       "      <td>0.000276</td>\n",
       "      <td>-0.001674</td>\n",
       "      <td>0.002623</td>\n",
       "      <td>2.000000</td>\n",
       "      <td>2.000000</td>\n",
       "      <td>...</td>\n",
       "      <td>-0.184945</td>\n",
       "      <td>-0.149100</td>\n",
       "      <td>0.033726</td>\n",
       "      <td>-0.396281</td>\n",
       "      <td>-0.339431</td>\n",
       "      <td>0.165229</td>\n",
       "      <td>0.399981</td>\n",
       "      <td>0.671386</td>\n",
       "      <td>0.000000</td>\n",
       "      <td>1.000000</td>\n",
       "    </tr>\n",
       "    <tr>\n",
       "      <th>75%</th>\n",
       "      <td>1.424999e+06</td>\n",
       "      <td>0.675788</td>\n",
       "      <td>0.671415</td>\n",
       "      <td>0.673105</td>\n",
       "      <td>0.676376</td>\n",
       "      <td>0.674542</td>\n",
       "      <td>0.674146</td>\n",
       "      <td>0.676590</td>\n",
       "      <td>3.000000</td>\n",
       "      <td>3.000000</td>\n",
       "      <td>...</td>\n",
       "      <td>1.447103</td>\n",
       "      <td>1.508052</td>\n",
       "      <td>1.664146</td>\n",
       "      <td>1.251361</td>\n",
       "      <td>1.269879</td>\n",
       "      <td>1.794429</td>\n",
       "      <td>2.025163</td>\n",
       "      <td>159.789006</td>\n",
       "      <td>1.000000</td>\n",
       "      <td>2.000000</td>\n",
       "    </tr>\n",
       "    <tr>\n",
       "      <th>max</th>\n",
       "      <td>1.599999e+06</td>\n",
       "      <td>5.761950</td>\n",
       "      <td>4.768073</td>\n",
       "      <td>4.599902</td>\n",
       "      <td>4.899904</td>\n",
       "      <td>4.494312</td>\n",
       "      <td>4.701004</td>\n",
       "      <td>4.673145</td>\n",
       "      <td>16.000000</td>\n",
       "      <td>13.000000</td>\n",
       "      <td>...</td>\n",
       "      <td>10.691366</td>\n",
       "      <td>11.999494</td>\n",
       "      <td>10.991597</td>\n",
       "      <td>11.366652</td>\n",
       "      <td>10.236546</td>\n",
       "      <td>11.294340</td>\n",
       "      <td>12.811976</td>\n",
       "      <td>1141.957328</td>\n",
       "      <td>1.000000</td>\n",
       "      <td>2.000000</td>\n",
       "    </tr>\n",
       "  </tbody>\n",
       "</table>\n",
       "<p>8 rows × 31 columns</p>\n",
       "</div>"
      ],
      "text/plain": [
       "                 id           f_00           f_01           f_02  \\\n",
       "count  7.000000e+05  700000.000000  700000.000000  700000.000000   \n",
       "mean   1.250000e+06      -0.000087      -0.000732      -0.000385   \n",
       "std    2.020727e+05       1.000264       0.997131       1.000317   \n",
       "min    9.000000e+05      -4.658018      -4.922718      -4.457561   \n",
       "25%    1.075000e+06      -0.675708      -0.674040      -0.675961   \n",
       "50%    1.250000e+06      -0.000395      -0.000241      -0.000723   \n",
       "75%    1.424999e+06       0.675788       0.671415       0.673105   \n",
       "max    1.599999e+06       5.761950       4.768073       4.599902   \n",
       "\n",
       "                f_03           f_04           f_05           f_06  \\\n",
       "count  700000.000000  700000.000000  700000.000000  700000.000000   \n",
       "mean        0.000705       0.000800      -0.000468       0.002550   \n",
       "std         1.001758       0.999088       1.000249       0.999536   \n",
       "min        -4.567419      -4.675301      -5.141356      -4.782164   \n",
       "25%        -0.674561      -0.674696      -0.674444      -0.671481   \n",
       "50%        -0.000294       0.000276      -0.001674       0.002623   \n",
       "75%         0.676376       0.674542       0.674146       0.676590   \n",
       "max         4.899904       4.494312       4.701004       4.673145   \n",
       "\n",
       "                f_07           f_08  ...           f_20           f_21  \\\n",
       "count  700000.000000  700000.000000  ...  700000.000000  700000.000000   \n",
       "mean        2.030819       2.056923  ...      -0.173972      -0.153938   \n",
       "std         1.655909       1.591726  ...       2.397938       2.484198   \n",
       "min         0.000000       0.000000  ...     -11.089910     -12.186778   \n",
       "25%         1.000000       1.000000  ...      -1.794757      -1.816739   \n",
       "50%         2.000000       2.000000  ...      -0.184945      -0.149100   \n",
       "75%         3.000000       3.000000  ...       1.447103       1.508052   \n",
       "max        16.000000      13.000000  ...      10.691366      11.999494   \n",
       "\n",
       "                f_22           f_23           f_24           f_25  \\\n",
       "count  700000.000000  700000.000000  700000.000000  700000.000000   \n",
       "mean       -0.005623      -0.371983      -0.340683       0.174245   \n",
       "std         2.450907       2.452619       2.388938       2.417555   \n",
       "min       -11.700814     -12.104478     -11.838417     -13.312784   \n",
       "25%        -1.641035      -2.021342      -1.948923      -1.443815   \n",
       "50%         0.033726      -0.396281      -0.339431       0.165229   \n",
       "75%         1.664146       1.251361       1.269879       1.794429   \n",
       "max        10.991597      11.366652      10.236546      11.294340   \n",
       "\n",
       "                f_26           f_28           f_29           f_30  \n",
       "count  700000.000000  700000.000000  700000.000000  700000.000000  \n",
       "mean        0.356288       0.604213       0.346090       1.003081  \n",
       "std         2.477713     238.888993       0.475723       0.819673  \n",
       "min       -13.462486   -1204.243716       0.000000       0.000000  \n",
       "25%        -1.263991    -158.660917       0.000000       0.000000  \n",
       "50%         0.399981       0.671386       0.000000       1.000000  \n",
       "75%         2.025163     159.789006       1.000000       2.000000  \n",
       "max        12.811976    1141.957328       1.000000       2.000000  \n",
       "\n",
       "[8 rows x 31 columns]"
      ]
     },
     "execution_count": 4,
     "metadata": {},
     "output_type": "execute_result"
    }
   ],
   "source": [
    "test.describe()"
   ]
  },
  {
   "cell_type": "markdown",
   "id": "bab5498c",
   "metadata": {
    "papermill": {
     "duration": 0.035465,
     "end_time": "2022-05-04T11:35:23.291938",
     "exception": false,
     "start_time": "2022-05-04T11:35:23.256473",
     "status": "completed"
    },
    "tags": []
   },
   "source": [
    "- Infos"
   ]
  },
  {
   "cell_type": "code",
   "execution_count": 5,
   "id": "92b3f94a",
   "metadata": {
    "execution": {
     "iopub.execute_input": "2022-05-04T11:35:23.369402Z",
     "iopub.status.busy": "2022-05-04T11:35:23.368710Z",
     "iopub.status.idle": "2022-05-04T11:35:23.516551Z",
     "shell.execute_reply": "2022-05-04T11:35:23.515865Z"
    },
    "papermill": {
     "duration": 0.190193,
     "end_time": "2022-05-04T11:35:23.519024",
     "exception": false,
     "start_time": "2022-05-04T11:35:23.328831",
     "status": "completed"
    },
    "tags": []
   },
   "outputs": [
    {
     "name": "stdout",
     "output_type": "stream",
     "text": [
      "<class 'pandas.core.frame.DataFrame'>\n",
      "RangeIndex: 900000 entries, 0 to 899999\n",
      "Data columns (total 33 columns):\n",
      " #   Column  Non-Null Count   Dtype  \n",
      "---  ------  --------------   -----  \n",
      " 0   id      900000 non-null  int64  \n",
      " 1   f_00    900000 non-null  float64\n",
      " 2   f_01    900000 non-null  float64\n",
      " 3   f_02    900000 non-null  float64\n",
      " 4   f_03    900000 non-null  float64\n",
      " 5   f_04    900000 non-null  float64\n",
      " 6   f_05    900000 non-null  float64\n",
      " 7   f_06    900000 non-null  float64\n",
      " 8   f_07    900000 non-null  int64  \n",
      " 9   f_08    900000 non-null  int64  \n",
      " 10  f_09    900000 non-null  int64  \n",
      " 11  f_10    900000 non-null  int64  \n",
      " 12  f_11    900000 non-null  int64  \n",
      " 13  f_12    900000 non-null  int64  \n",
      " 14  f_13    900000 non-null  int64  \n",
      " 15  f_14    900000 non-null  int64  \n",
      " 16  f_15    900000 non-null  int64  \n",
      " 17  f_16    900000 non-null  int64  \n",
      " 18  f_17    900000 non-null  int64  \n",
      " 19  f_18    900000 non-null  int64  \n",
      " 20  f_19    900000 non-null  float64\n",
      " 21  f_20    900000 non-null  float64\n",
      " 22  f_21    900000 non-null  float64\n",
      " 23  f_22    900000 non-null  float64\n",
      " 24  f_23    900000 non-null  float64\n",
      " 25  f_24    900000 non-null  float64\n",
      " 26  f_25    900000 non-null  float64\n",
      " 27  f_26    900000 non-null  float64\n",
      " 28  f_27    900000 non-null  object \n",
      " 29  f_28    900000 non-null  float64\n",
      " 30  f_29    900000 non-null  int64  \n",
      " 31  f_30    900000 non-null  int64  \n",
      " 32  target  900000 non-null  int64  \n",
      "dtypes: float64(16), int64(16), object(1)\n",
      "memory usage: 226.6+ MB\n"
     ]
    }
   ],
   "source": [
    "train.info()"
   ]
  },
  {
   "cell_type": "markdown",
   "id": "f5682a82",
   "metadata": {
    "papermill": {
     "duration": 0.035941,
     "end_time": "2022-05-04T11:35:23.592363",
     "exception": false,
     "start_time": "2022-05-04T11:35:23.556422",
     "status": "completed"
    },
    "tags": []
   },
   "source": [
    "We have :\n",
    "- 16 float64 columns\n",
    "- 16 int64 columns\n",
    "- 1 object columns"
   ]
  },
  {
   "cell_type": "code",
   "execution_count": 6,
   "id": "47b2e01f",
   "metadata": {
    "execution": {
     "iopub.execute_input": "2022-05-04T11:35:23.666331Z",
     "iopub.status.busy": "2022-05-04T11:35:23.665638Z",
     "iopub.status.idle": "2022-05-04T11:35:23.774333Z",
     "shell.execute_reply": "2022-05-04T11:35:23.773646Z"
    },
    "papermill": {
     "duration": 0.148099,
     "end_time": "2022-05-04T11:35:23.776888",
     "exception": false,
     "start_time": "2022-05-04T11:35:23.628789",
     "status": "completed"
    },
    "tags": []
   },
   "outputs": [
    {
     "name": "stdout",
     "output_type": "stream",
     "text": [
      "<class 'pandas.core.frame.DataFrame'>\n",
      "RangeIndex: 700000 entries, 0 to 699999\n",
      "Data columns (total 32 columns):\n",
      " #   Column  Non-Null Count   Dtype  \n",
      "---  ------  --------------   -----  \n",
      " 0   id      700000 non-null  int64  \n",
      " 1   f_00    700000 non-null  float64\n",
      " 2   f_01    700000 non-null  float64\n",
      " 3   f_02    700000 non-null  float64\n",
      " 4   f_03    700000 non-null  float64\n",
      " 5   f_04    700000 non-null  float64\n",
      " 6   f_05    700000 non-null  float64\n",
      " 7   f_06    700000 non-null  float64\n",
      " 8   f_07    700000 non-null  int64  \n",
      " 9   f_08    700000 non-null  int64  \n",
      " 10  f_09    700000 non-null  int64  \n",
      " 11  f_10    700000 non-null  int64  \n",
      " 12  f_11    700000 non-null  int64  \n",
      " 13  f_12    700000 non-null  int64  \n",
      " 14  f_13    700000 non-null  int64  \n",
      " 15  f_14    700000 non-null  int64  \n",
      " 16  f_15    700000 non-null  int64  \n",
      " 17  f_16    700000 non-null  int64  \n",
      " 18  f_17    700000 non-null  int64  \n",
      " 19  f_18    700000 non-null  int64  \n",
      " 20  f_19    700000 non-null  float64\n",
      " 21  f_20    700000 non-null  float64\n",
      " 22  f_21    700000 non-null  float64\n",
      " 23  f_22    700000 non-null  float64\n",
      " 24  f_23    700000 non-null  float64\n",
      " 25  f_24    700000 non-null  float64\n",
      " 26  f_25    700000 non-null  float64\n",
      " 27  f_26    700000 non-null  float64\n",
      " 28  f_27    700000 non-null  object \n",
      " 29  f_28    700000 non-null  float64\n",
      " 30  f_29    700000 non-null  int64  \n",
      " 31  f_30    700000 non-null  int64  \n",
      "dtypes: float64(16), int64(15), object(1)\n",
      "memory usage: 170.9+ MB\n"
     ]
    }
   ],
   "source": [
    "test.info()"
   ]
  },
  {
   "cell_type": "markdown",
   "id": "3e7ba3a7",
   "metadata": {
    "papermill": {
     "duration": 0.036575,
     "end_time": "2022-05-04T11:35:23.852232",
     "exception": false,
     "start_time": "2022-05-04T11:35:23.815657",
     "status": "completed"
    },
    "tags": []
   },
   "source": [
    "- Check missing columns"
   ]
  },
  {
   "cell_type": "code",
   "execution_count": 7,
   "id": "90f9b988",
   "metadata": {
    "execution": {
     "iopub.execute_input": "2022-05-04T11:35:23.926007Z",
     "iopub.status.busy": "2022-05-04T11:35:23.925741Z",
     "iopub.status.idle": "2022-05-04T11:35:24.052349Z",
     "shell.execute_reply": "2022-05-04T11:35:24.051357Z"
    },
    "papermill": {
     "duration": 0.165967,
     "end_time": "2022-05-04T11:35:24.054475",
     "exception": false,
     "start_time": "2022-05-04T11:35:23.888508",
     "status": "completed"
    },
    "tags": []
   },
   "outputs": [
    {
     "data": {
      "text/plain": [
       "False"
      ]
     },
     "execution_count": 7,
     "metadata": {},
     "output_type": "execute_result"
    }
   ],
   "source": [
    "train.isna().sum().any()"
   ]
  },
  {
   "cell_type": "code",
   "execution_count": 8,
   "id": "c4b8ce18",
   "metadata": {
    "execution": {
     "iopub.execute_input": "2022-05-04T11:35:24.129779Z",
     "iopub.status.busy": "2022-05-04T11:35:24.129561Z",
     "iopub.status.idle": "2022-05-04T11:35:24.228702Z",
     "shell.execute_reply": "2022-05-04T11:35:24.227906Z"
    },
    "papermill": {
     "duration": 0.139551,
     "end_time": "2022-05-04T11:35:24.230764",
     "exception": false,
     "start_time": "2022-05-04T11:35:24.091213",
     "status": "completed"
    },
    "tags": []
   },
   "outputs": [
    {
     "data": {
      "text/plain": [
       "False"
      ]
     },
     "execution_count": 8,
     "metadata": {},
     "output_type": "execute_result"
    }
   ],
   "source": [
    "test.isna().sum().any()"
   ]
  },
  {
   "cell_type": "code",
   "execution_count": null,
   "id": "516fb719",
   "metadata": {
    "papermill": {
     "duration": 0.036581,
     "end_time": "2022-05-04T11:35:24.304848",
     "exception": false,
     "start_time": "2022-05-04T11:35:24.268267",
     "status": "completed"
    },
    "tags": []
   },
   "outputs": [],
   "source": []
  },
  {
   "cell_type": "markdown",
   "id": "4372b9b5",
   "metadata": {
    "papermill": {
     "duration": 0.036605,
     "end_time": "2022-05-04T11:35:24.378777",
     "exception": false,
     "start_time": "2022-05-04T11:35:24.342172",
     "status": "completed"
    },
    "tags": []
   },
   "source": [
    "# Feature Engineering (from @ambrosm)"
   ]
  },
  {
   "cell_type": "markdown",
   "id": "6d756afa",
   "metadata": {
    "papermill": {
     "duration": 0.036647,
     "end_time": "2022-05-04T11:35:24.452222",
     "exception": false,
     "start_time": "2022-05-04T11:35:24.415575",
     "status": "completed"
    },
    "tags": []
   },
   "source": [
    "Nous remercions @ambrosm pour le travail fait et partagé sur cette section dans son [carnet](https://www.kaggle.com/code/ambrosm/tpsmay22-keras-quickstart#Feature-engineering).\n",
    "\n",
    "\"*We read the data and apply minimal feature engineering: We only split the f_27 string into ten separate features as described in the [EDA](https://www.kaggle.com/code/ambrosm/tpsmay22-eda-which-makes-sense), and we count the unique characters in the string.*\""
   ]
  },
  {
   "cell_type": "code",
   "execution_count": 9,
   "id": "df7eaddb",
   "metadata": {
    "execution": {
     "iopub.execute_input": "2022-05-04T11:35:24.527383Z",
     "iopub.status.busy": "2022-05-04T11:35:24.527138Z",
     "iopub.status.idle": "2022-05-04T11:35:43.142545Z",
     "shell.execute_reply": "2022-05-04T11:35:43.141745Z"
    },
    "papermill": {
     "duration": 18.655755,
     "end_time": "2022-05-04T11:35:43.145030",
     "exception": false,
     "start_time": "2022-05-04T11:35:24.489275",
     "status": "completed"
    },
    "tags": []
   },
   "outputs": [
    {
     "data": {
      "text/html": [
       "<div>\n",
       "<style scoped>\n",
       "    .dataframe tbody tr th:only-of-type {\n",
       "        vertical-align: middle;\n",
       "    }\n",
       "\n",
       "    .dataframe tbody tr th {\n",
       "        vertical-align: top;\n",
       "    }\n",
       "\n",
       "    .dataframe thead th {\n",
       "        text-align: right;\n",
       "    }\n",
       "</style>\n",
       "<table border=\"1\" class=\"dataframe\">\n",
       "  <thead>\n",
       "    <tr style=\"text-align: right;\">\n",
       "      <th></th>\n",
       "      <th>f_00</th>\n",
       "      <th>f_01</th>\n",
       "      <th>f_02</th>\n",
       "      <th>f_03</th>\n",
       "      <th>f_04</th>\n",
       "      <th>f_05</th>\n",
       "      <th>f_06</th>\n",
       "      <th>f_07</th>\n",
       "      <th>f_08</th>\n",
       "      <th>f_09</th>\n",
       "      <th>...</th>\n",
       "      <th>ch1</th>\n",
       "      <th>ch2</th>\n",
       "      <th>ch3</th>\n",
       "      <th>ch4</th>\n",
       "      <th>ch5</th>\n",
       "      <th>ch6</th>\n",
       "      <th>ch7</th>\n",
       "      <th>ch8</th>\n",
       "      <th>ch9</th>\n",
       "      <th>unique_characters</th>\n",
       "    </tr>\n",
       "  </thead>\n",
       "  <tbody>\n",
       "    <tr>\n",
       "      <th>0</th>\n",
       "      <td>0.442517</td>\n",
       "      <td>0.174380</td>\n",
       "      <td>-0.999816</td>\n",
       "      <td>0.762741</td>\n",
       "      <td>0.186778</td>\n",
       "      <td>-1.074775</td>\n",
       "      <td>0.501888</td>\n",
       "      <td>6</td>\n",
       "      <td>6</td>\n",
       "      <td>0</td>\n",
       "      <td>...</td>\n",
       "      <td>0</td>\n",
       "      <td>0</td>\n",
       "      <td>0</td>\n",
       "      <td>1</td>\n",
       "      <td>0</td>\n",
       "      <td>3</td>\n",
       "      <td>11</td>\n",
       "      <td>0</td>\n",
       "      <td>2</td>\n",
       "      <td>5</td>\n",
       "    </tr>\n",
       "    <tr>\n",
       "      <th>1</th>\n",
       "      <td>-0.605598</td>\n",
       "      <td>-0.305715</td>\n",
       "      <td>0.627667</td>\n",
       "      <td>-0.578898</td>\n",
       "      <td>-1.750931</td>\n",
       "      <td>1.355550</td>\n",
       "      <td>-0.190911</td>\n",
       "      <td>1</td>\n",
       "      <td>3</td>\n",
       "      <td>4</td>\n",
       "      <td>...</td>\n",
       "      <td>5</td>\n",
       "      <td>0</td>\n",
       "      <td>1</td>\n",
       "      <td>1</td>\n",
       "      <td>0</td>\n",
       "      <td>4</td>\n",
       "      <td>6</td>\n",
       "      <td>2</td>\n",
       "      <td>1</td>\n",
       "      <td>6</td>\n",
       "    </tr>\n",
       "  </tbody>\n",
       "</table>\n",
       "<p>2 rows × 41 columns</p>\n",
       "</div>"
      ],
      "text/plain": [
       "       f_00      f_01      f_02      f_03      f_04      f_05      f_06  f_07  \\\n",
       "0  0.442517  0.174380 -0.999816  0.762741  0.186778 -1.074775  0.501888     6   \n",
       "1 -0.605598 -0.305715  0.627667 -0.578898 -1.750931  1.355550 -0.190911     1   \n",
       "\n",
       "   f_08  f_09  ...  ch1  ch2  ch3  ch4  ch5  ch6  ch7  ch8  ch9  \\\n",
       "0     6     0  ...    0    0    0    1    0    3   11    0    2   \n",
       "1     3     4  ...    5    0    1    1    0    4    6    2    1   \n",
       "\n",
       "   unique_characters  \n",
       "0                  5  \n",
       "1                  6  \n",
       "\n",
       "[2 rows x 41 columns]"
      ]
     },
     "execution_count": 9,
     "metadata": {},
     "output_type": "execute_result"
    }
   ],
   "source": [
    "for df in [train, test]:\n",
    "    for i in range(10):\n",
    "        df[f'ch{i}'] = df.f_27.str.get(i).apply(ord) - ord('A')\n",
    "    # Next feature is from https://www.kaggle.com/code/cabaxiom/tps-may-22-eda-lgbm-model\n",
    "    df[\"unique_characters\"] = df.f_27.apply(lambda s: len(set(s)))\n",
    "features = [f for f in test.columns if f != 'id' and f != 'f_27']\n",
    "test[features].head(2)"
   ]
  },
  {
   "cell_type": "markdown",
   "id": "44877953",
   "metadata": {
    "papermill": {
     "duration": 0.041409,
     "end_time": "2022-05-04T11:35:43.232701",
     "exception": false,
     "start_time": "2022-05-04T11:35:43.191292",
     "status": "completed"
    },
    "tags": []
   },
   "source": [
    "# Modeling"
   ]
  },
  {
   "cell_type": "code",
   "execution_count": 10,
   "id": "8500b5d8",
   "metadata": {
    "execution": {
     "iopub.execute_input": "2022-05-04T11:35:43.315983Z",
     "iopub.status.busy": "2022-05-04T11:35:43.315484Z",
     "iopub.status.idle": "2022-05-04T11:35:43.319214Z",
     "shell.execute_reply": "2022-05-04T11:35:43.318540Z"
    },
    "papermill": {
     "duration": 0.046428,
     "end_time": "2022-05-04T11:35:43.320874",
     "exception": false,
     "start_time": "2022-05-04T11:35:43.274446",
     "status": "completed"
    },
    "tags": []
   },
   "outputs": [],
   "source": [
    "from sklearn.metrics import roc_auc_score, accuracy_score\n",
    "from sklearn.model_selection import StratifiedKFold"
   ]
  },
  {
   "cell_type": "markdown",
   "id": "e0f21eac",
   "metadata": {
    "papermill": {
     "duration": 0.039013,
     "end_time": "2022-05-04T11:35:43.399635",
     "exception": false,
     "start_time": "2022-05-04T11:35:43.360622",
     "status": "completed"
    },
    "tags": []
   },
   "source": [
    "### Split Data"
   ]
  },
  {
   "cell_type": "code",
   "execution_count": 11,
   "id": "e376dbff",
   "metadata": {
    "execution": {
     "iopub.execute_input": "2022-05-04T11:35:43.475802Z",
     "iopub.status.busy": "2022-05-04T11:35:43.475208Z",
     "iopub.status.idle": "2022-05-04T11:35:43.753196Z",
     "shell.execute_reply": "2022-05-04T11:35:43.752526Z"
    },
    "papermill": {
     "duration": 0.318082,
     "end_time": "2022-05-04T11:35:43.755043",
     "exception": false,
     "start_time": "2022-05-04T11:35:43.436961",
     "status": "completed"
    },
    "tags": []
   },
   "outputs": [
    {
     "data": {
      "text/plain": [
       "((900000, 41), (700000, 41))"
      ]
     },
     "execution_count": 11,
     "metadata": {},
     "output_type": "execute_result"
    }
   ],
   "source": [
    "y = train[\"target\"]\n",
    "X = train.drop(columns=[\"id\",\"f_27\", \"target\"])\n",
    "\n",
    "test = test.drop(columns=[\"id\",\"f_27\"])\n",
    "\n",
    "X.shape, test.shape"
   ]
  },
  {
   "cell_type": "code",
   "execution_count": 12,
   "id": "4561b706",
   "metadata": {
    "execution": {
     "iopub.execute_input": "2022-05-04T11:35:43.832198Z",
     "iopub.status.busy": "2022-05-04T11:35:43.831484Z",
     "iopub.status.idle": "2022-05-04T11:35:44.226774Z",
     "shell.execute_reply": "2022-05-04T11:35:44.226068Z"
    },
    "papermill": {
     "duration": 0.436155,
     "end_time": "2022-05-04T11:35:44.228920",
     "exception": false,
     "start_time": "2022-05-04T11:35:43.792765",
     "status": "completed"
    },
    "tags": []
   },
   "outputs": [],
   "source": [
    "from sklearn.model_selection import train_test_split\n",
    "\n",
    "_, X_test, _, y_test = train_test_split(X, y, test_size=0.33, random_state=42)"
   ]
  },
  {
   "cell_type": "markdown",
   "id": "34ae7d40",
   "metadata": {
    "papermill": {
     "duration": 0.037708,
     "end_time": "2022-05-04T11:35:44.305005",
     "exception": false,
     "start_time": "2022-05-04T11:35:44.267297",
     "status": "completed"
    },
    "tags": []
   },
   "source": [
    "### Search best params with optuna"
   ]
  },
  {
   "cell_type": "code",
   "execution_count": 13,
   "id": "7d259739",
   "metadata": {
    "execution": {
     "iopub.execute_input": "2022-05-04T11:35:44.381567Z",
     "iopub.status.busy": "2022-05-04T11:35:44.381056Z",
     "iopub.status.idle": "2022-05-04T11:35:44.458532Z",
     "shell.execute_reply": "2022-05-04T11:35:44.457879Z"
    },
    "papermill": {
     "duration": 0.118293,
     "end_time": "2022-05-04T11:35:44.460731",
     "exception": false,
     "start_time": "2022-05-04T11:35:44.342438",
     "status": "completed"
    },
    "tags": []
   },
   "outputs": [],
   "source": [
    "from xgboost import XGBClassifier\n",
    "import time"
   ]
  },
  {
   "cell_type": "code",
   "execution_count": 14,
   "id": "49815b33",
   "metadata": {
    "_kg_hide-input": true,
    "_kg_hide-output": true,
    "execution": {
     "iopub.execute_input": "2022-05-04T11:35:44.538218Z",
     "iopub.status.busy": "2022-05-04T11:35:44.537991Z",
     "iopub.status.idle": "2022-05-04T11:35:44.545206Z",
     "shell.execute_reply": "2022-05-04T11:35:44.544535Z"
    },
    "papermill": {
     "duration": 0.04818,
     "end_time": "2022-05-04T11:35:44.546916",
     "exception": false,
     "start_time": "2022-05-04T11:35:44.498736",
     "status": "completed"
    },
    "tags": []
   },
   "outputs": [],
   "source": [
    "optuna.logging.set_verbosity(optuna.logging.WARNING)\n",
    "\n",
    "def objectivesXGBCls(trial):\n",
    "    params = {\n",
    "        'max_depth' : trial.suggest_int(\"max_depth\", 1, 16),\n",
    "        'n_estimators': trial.suggest_int('n_estimators', 5, 5000),\n",
    "        'random_state': trial.suggest_int(\"random_state\", 0, 722),\n",
    "        'learning_rate': trial.suggest_float('learning_rate', 0, 1),\n",
    "        'tree_method' : 'gpu_hist', \n",
    "        #'gpu_id': -1\n",
    "    }\n",
    "\n",
    "    model = XGBClassifier(**params)\n",
    "    model.fit(X,y)\n",
    "\n",
    "    return model.score(X,y)\n",
    "\n",
    "#opt = optuna.create_study(direction='maximize')\n",
    "#opt.optimize(objectivesXGBCls, n_trials=1775)"
   ]
  },
  {
   "cell_type": "code",
   "execution_count": 15,
   "id": "0515f5e7",
   "metadata": {
    "execution": {
     "iopub.execute_input": "2022-05-04T11:35:44.627914Z",
     "iopub.status.busy": "2022-05-04T11:35:44.627671Z",
     "iopub.status.idle": "2022-05-04T11:35:44.631517Z",
     "shell.execute_reply": "2022-05-04T11:35:44.630712Z"
    },
    "papermill": {
     "duration": 0.046985,
     "end_time": "2022-05-04T11:35:44.633585",
     "exception": false,
     "start_time": "2022-05-04T11:35:44.586600",
     "status": "completed"
    },
    "tags": []
   },
   "outputs": [],
   "source": [
    "#params = opt.best_params\n",
    "params = {'max_depth': 10, 'n_estimators': 2964, 'random_state': 112, 'learning_rate': 0.9482502732365597}"
   ]
  },
  {
   "cell_type": "markdown",
   "id": "ab7d4539",
   "metadata": {
    "papermill": {
     "duration": 0.040635,
     "end_time": "2022-05-04T11:35:44.714249",
     "exception": false,
     "start_time": "2022-05-04T11:35:44.673614",
     "status": "completed"
    },
    "tags": []
   },
   "source": [
    "### Check features important"
   ]
  },
  {
   "cell_type": "code",
   "execution_count": 16,
   "id": "cc27b03b",
   "metadata": {
    "execution": {
     "iopub.execute_input": "2022-05-04T11:35:44.797568Z",
     "iopub.status.busy": "2022-05-04T11:35:44.797325Z",
     "iopub.status.idle": "2022-05-04T11:37:11.514206Z",
     "shell.execute_reply": "2022-05-04T11:37:11.513421Z"
    },
    "papermill": {
     "duration": 86.761229,
     "end_time": "2022-05-04T11:37:11.516708",
     "exception": false,
     "start_time": "2022-05-04T11:35:44.755479",
     "status": "completed"
    },
    "tags": []
   },
   "outputs": [],
   "source": [
    "model = XGBClassifier(**params, tree_method='gpu_hist')\n",
    "model.fit(X, y)\n",
    "\n",
    "pred_y_test = model.predict(X_test)"
   ]
  },
  {
   "cell_type": "code",
   "execution_count": 17,
   "id": "b1c6648e",
   "metadata": {
    "execution": {
     "iopub.execute_input": "2022-05-04T11:37:11.597352Z",
     "iopub.status.busy": "2022-05-04T11:37:11.597121Z",
     "iopub.status.idle": "2022-05-04T11:37:12.139416Z",
     "shell.execute_reply": "2022-05-04T11:37:12.138725Z"
    },
    "papermill": {
     "duration": 0.582419,
     "end_time": "2022-05-04T11:37:12.141152",
     "exception": false,
     "start_time": "2022-05-04T11:37:11.558733",
     "status": "completed"
    },
    "tags": []
   },
   "outputs": [
    {
     "data": {
      "text/plain": [
       "<AxesSubplot:>"
      ]
     },
     "execution_count": 17,
     "metadata": {},
     "output_type": "execute_result"
    },
    {
     "data": {
      "image/png": "[encoded data removed]",
      "text/plain": [
       "<Figure size 1296x720 with 1 Axes>"
      ]
     },
     "metadata": {
      "needs_background": "light"
     },
     "output_type": "display_data"
    }
   ],
   "source": [
    "feature_important = model.get_booster().get_score(importance_type='weight')\n",
    "keys = list(feature_important.keys())\n",
    "values = list(feature_important.values())\n",
    "\n",
    "data = pd.DataFrame(data=values, index=keys, columns=[\"score\"]).sort_values(by = \"score\", ascending=False)\n",
    "data.nlargest(X.shape[1], columns=\"score\").plot(kind='barh', figsize = (18,10)) ## plot top 40 features"
   ]
  },
  {
   "cell_type": "code",
   "execution_count": 18,
   "id": "b635fe6c",
   "metadata": {
    "_kg_hide-output": true,
    "collapsed": true,
    "execution": {
     "iopub.execute_input": "2022-05-04T11:37:12.221677Z",
     "iopub.status.busy": "2022-05-04T11:37:12.221456Z",
     "iopub.status.idle": "2022-05-04T11:37:12.227970Z",
     "shell.execute_reply": "2022-05-04T11:37:12.227208Z"
    },
    "jupyter": {
     "outputs_hidden": true
    },
    "papermill": {
     "duration": 0.049054,
     "end_time": "2022-05-04T11:37:12.230670",
     "exception": false,
     "start_time": "2022-05-04T11:37:12.181616",
     "status": "completed"
    },
    "tags": []
   },
   "outputs": [
    {
     "data": {
      "text/plain": [
       "['f_26',\n",
       " 'f_21',\n",
       " 'f_22',\n",
       " 'f_00',\n",
       " 'f_01',\n",
       " 'f_19',\n",
       " 'f_02',\n",
       " 'f_24',\n",
       " 'f_25',\n",
       " 'f_05',\n",
       " 'f_20',\n",
       " 'f_23',\n",
       " 'f_28',\n",
       " 'f_06',\n",
       " 'f_04',\n",
       " 'f_03']"
      ]
     },
     "execution_count": 18,
     "metadata": {},
     "output_type": "execute_result"
    }
   ],
   "source": [
    "# Selected 18 Best Features\n",
    "selected_features = data[:16].sort_values(by = \"score\", ascending=False).index.tolist()\n",
    "selected_features"
   ]
  },
  {
   "cell_type": "code",
   "execution_count": 19,
   "id": "9be2c48f",
   "metadata": {
    "execution": {
     "iopub.execute_input": "2022-05-04T11:37:12.312217Z",
     "iopub.status.busy": "2022-05-04T11:37:12.311996Z",
     "iopub.status.idle": "2022-05-04T11:37:12.317099Z",
     "shell.execute_reply": "2022-05-04T11:37:12.316337Z"
    },
    "papermill": {
     "duration": 0.048172,
     "end_time": "2022-05-04T11:37:12.319661",
     "exception": false,
     "start_time": "2022-05-04T11:37:12.271489",
     "status": "completed"
    },
    "tags": []
   },
   "outputs": [
    {
     "data": {
      "text/plain": [
       "((900000, 41), (700000, 41))"
      ]
     },
     "execution_count": 19,
     "metadata": {},
     "output_type": "execute_result"
    }
   ],
   "source": [
    "#X = X[selected_features]\n",
    "#test = test[selected_features]\n",
    "\n",
    "X.shape, test.shape"
   ]
  },
  {
   "cell_type": "markdown",
   "id": "ba95bf02",
   "metadata": {
    "papermill": {
     "duration": 0.039405,
     "end_time": "2022-05-04T11:37:12.398702",
     "exception": false,
     "start_time": "2022-05-04T11:37:12.359297",
     "status": "completed"
    },
    "tags": []
   },
   "source": [
    "### Add Basics Features"
   ]
  },
  {
   "cell_type": "code",
   "execution_count": 20,
   "id": "65886e19",
   "metadata": {
    "execution": {
     "iopub.execute_input": "2022-05-04T11:37:12.479616Z",
     "iopub.status.busy": "2022-05-04T11:37:12.479386Z",
     "iopub.status.idle": "2022-05-04T11:37:12.485638Z",
     "shell.execute_reply": "2022-05-04T11:37:12.484923Z"
    },
    "papermill": {
     "duration": 0.048579,
     "end_time": "2022-05-04T11:37:12.487402",
     "exception": false,
     "start_time": "2022-05-04T11:37:12.438823",
     "status": "completed"
    },
    "tags": []
   },
   "outputs": [],
   "source": [
    "def add_basics_features(data, features):\n",
    "    \n",
    "    for feature in features:\n",
    "        new_feature_name = str(feature) + '_min'\n",
    "        data[new_feature_name] = data[feature].min()\n",
    "        \n",
    "        new_feature_name = str(feature) + '_max'\n",
    "        data[new_feature_name] = data[feature].max()\n",
    "        \n",
    "        new_feature_name = str(feature) + '_mean'\n",
    "        data[new_feature_name] = data[feature].mean()\n",
    "        \n",
    "        new_feature_name = str(feature) + '_std'\n",
    "        data[new_feature_name] = data[feature].std()\n",
    "        \n",
    "        new_feature_name = str(feature) + '_max_min'\n",
    "        data[new_feature_name] = data[feature].max() - data[feature].min()\n",
    "    \n",
    "    return data"
   ]
  },
  {
   "cell_type": "code",
   "execution_count": 21,
   "id": "aeaf5f7b",
   "metadata": {
    "execution": {
     "iopub.execute_input": "2022-05-04T11:37:12.580678Z",
     "iopub.status.busy": "2022-05-04T11:37:12.580439Z",
     "iopub.status.idle": "2022-05-04T11:37:13.456459Z",
     "shell.execute_reply": "2022-05-04T11:37:13.455720Z"
    },
    "papermill": {
     "duration": 0.924672,
     "end_time": "2022-05-04T11:37:13.458282",
     "exception": false,
     "start_time": "2022-05-04T11:37:12.533610",
     "status": "completed"
    },
    "tags": []
   },
   "outputs": [
    {
     "data": {
      "text/plain": [
       "((900000, 121), (700000, 121))"
      ]
     },
     "execution_count": 21,
     "metadata": {},
     "output_type": "execute_result"
    }
   ],
   "source": [
    "X = add_basics_features(X, selected_features)\n",
    "test = add_basics_features(test, selected_features)\n",
    "\n",
    "X.shape, test.shape"
   ]
  },
  {
   "cell_type": "markdown",
   "id": "2d6e6909",
   "metadata": {
    "papermill": {
     "duration": 0.039753,
     "end_time": "2022-05-04T11:37:13.540602",
     "exception": false,
     "start_time": "2022-05-04T11:37:13.500849",
     "status": "completed"
    },
    "tags": []
   },
   "source": [
    "### Cross Validation"
   ]
  },
  {
   "cell_type": "markdown",
   "id": "fa606f98",
   "metadata": {
    "papermill": {
     "duration": 0.039914,
     "end_time": "2022-05-04T11:37:13.620331",
     "exception": false,
     "start_time": "2022-05-04T11:37:13.580417",
     "status": "completed"
    },
    "tags": []
   },
   "source": [
    "Nous remercions @cabaxiom pour son travail fait et partagé [ici](https://www.kaggle.com/code/cabaxiom/tps-may-22-eda-lgbm-model#Feature-Importance)."
   ]
  },
  {
   "cell_type": "code",
   "execution_count": 22,
   "id": "9a88f9c4",
   "metadata": {
    "collapsed": true,
    "execution": {
     "iopub.execute_input": "2022-05-04T11:37:13.701770Z",
     "iopub.status.busy": "2022-05-04T11:37:13.701531Z",
     "iopub.status.idle": "2022-05-04T12:37:31.042478Z",
     "shell.execute_reply": "2022-05-04T12:37:31.041737Z"
    },
    "jupyter": {
     "outputs_hidden": true
    },
    "papermill": {
     "duration": 3617.429891,
     "end_time": "2022-05-04T12:37:31.090369",
     "exception": false,
     "start_time": "2022-05-04T11:37:13.660478",
     "status": "completed"
    },
    "tags": []
   },
   "outputs": [
    {
     "name": "stdout",
     "output_type": "stream",
     "text": [
      "**************  Fold 0  ************** \n",
      "\n",
      "Training score : 1.0\n",
      "Roc auc score  : 0.9879859678405539 \n",
      "\n",
      "**************  Fold 1  ************** \n",
      "\n",
      "Training score : 1.0\n",
      "Roc auc score  : 0.9870149772230471 \n",
      "\n",
      "**************  Fold 2  ************** \n",
      "\n",
      "Training score : 1.0\n",
      "Roc auc score  : 0.9874420133693073 \n",
      "\n",
      "**************  Fold 3  ************** \n",
      "\n",
      "Training score : 1.0\n",
      "Roc auc score  : 0.9877491953621761 \n",
      "\n",
      "**************  Fold 4  ************** \n",
      "\n",
      "Training score : 1.0\n",
      "Roc auc score  : 0.9874757574768548 \n",
      "\n",
      "**************  Fold 5  ************** \n",
      "\n",
      "Training score : 1.0\n",
      "Roc auc score  : 0.9876225852196308 \n",
      "\n",
      "**************  Fold 6  ************** \n",
      "\n",
      "Training score : 1.0\n",
      "Roc auc score  : 0.9879727396622209 \n",
      "\n",
      "**************  Fold 7  ************** \n",
      "\n",
      "Training score : 1.0\n",
      "Roc auc score  : 0.9873279059343176 \n",
      "\n",
      "**************  Fold 8  ************** \n",
      "\n",
      "Training score : 1.0\n",
      "Roc auc score  : 0.9874644377073544 \n",
      "\n",
      "**************  Fold 9  ************** \n",
      "\n",
      "Training score : 1.0\n",
      "Roc auc score  : 0.9875008836649439 \n",
      "\n",
      "**************  Fold 10  ************** \n",
      "\n",
      "Training score : 1.0\n",
      "Roc auc score  : 0.9876707521921158 \n",
      "\n",
      "**************  Fold 11  ************** \n",
      "\n",
      "Training score : 1.0\n",
      "Roc auc score  : 0.9872245654036923 \n",
      "\n",
      "**************  Fold 12  ************** \n",
      "\n",
      "Training score : 1.0\n",
      "Roc auc score  : 0.9872183007895726 \n",
      "\n",
      "**************  Fold 13  ************** \n",
      "\n",
      "Training score : 1.0\n",
      "Roc auc score  : 0.9875005508356295 \n",
      "\n"
     ]
    }
   ],
   "source": [
    "kf = StratifiedKFold(n_splits=14, shuffle=True, random_state = 112)\n",
    "y_predict = []\n",
    "\n",
    "for fold, (train_index, val_index) in enumerate(kf.split(X, y)):\n",
    "        print('*'*14, f\" Fold {fold} \", '*'*14, '\\n')\n",
    "        \n",
    "        # Split Data\n",
    "        X_train = X.loc[train_index]\n",
    "        X_val = X.loc[val_index]\n",
    "\n",
    "        y_train = y.loc[train_index]\n",
    "        y_val = y.loc[val_index]\n",
    "        \n",
    "        # Create Model here\n",
    "        model = XGBClassifier(**params, tree_method='gpu_hist')\n",
    "        \n",
    "        # Fit Model\n",
    "        model.fit(X_train,y_train)\n",
    "\n",
    "        # Make X_val prediction\n",
    "        y_pred = model.predict_proba(X_val)[:,1]\n",
    "        \n",
    "        # Make Test prediction\n",
    "        y_predict.append(model.predict_proba(test)[:,1])\n",
    "\n",
    "        # Evaluate Model\n",
    "        print(\"Training score :\", model.score(X_train, y_train))\n",
    "        print(\"Roc auc score  :\", roc_auc_score(y_val, y_pred), '\\n')\n",
    "        \n",
    "        # Free the memory\n",
    "        del X_train, y_train, model, X_val, y_val, y_pred\n",
    "        gc.collect()\n",
    "        "
   ]
  },
  {
   "cell_type": "markdown",
   "id": "79b4aef6",
   "metadata": {
    "papermill": {
     "duration": 0.045,
     "end_time": "2022-05-04T12:37:31.180540",
     "exception": false,
     "start_time": "2022-05-04T12:37:31.135540",
     "status": "completed"
    },
    "tags": []
   },
   "source": [
    "### Training with complet data"
   ]
  },
  {
   "cell_type": "code",
   "execution_count": 23,
   "id": "37b07440",
   "metadata": {
    "execution": {
     "iopub.execute_input": "2022-05-04T12:37:31.271842Z",
     "iopub.status.busy": "2022-05-04T12:37:31.271602Z",
     "iopub.status.idle": "2022-05-04T12:40:18.836254Z",
     "shell.execute_reply": "2022-05-04T12:40:18.835588Z"
    },
    "papermill": {
     "duration": 167.613098,
     "end_time": "2022-05-04T12:40:18.838718",
     "exception": false,
     "start_time": "2022-05-04T12:37:31.225620",
     "status": "completed"
    },
    "tags": []
   },
   "outputs": [],
   "source": [
    "# Create Model here\n",
    "model = XGBClassifier(**params, tree_method='gpu_hist')\n",
    "\n",
    "# Fit Model\n",
    "model.fit(X, y)\n",
    "\n",
    "# Make Test prediction\n",
    "y_predict.append(model.predict_proba(test)[:,1])"
   ]
  },
  {
   "cell_type": "code",
   "execution_count": 24,
   "id": "7abf5c68",
   "metadata": {
    "execution": {
     "iopub.execute_input": "2022-05-04T12:40:18.937200Z",
     "iopub.status.busy": "2022-05-04T12:40:18.936949Z",
     "iopub.status.idle": "2022-05-04T12:40:19.080357Z",
     "shell.execute_reply": "2022-05-04T12:40:19.079535Z"
    },
    "papermill": {
     "duration": 0.192496,
     "end_time": "2022-05-04T12:40:19.082599",
     "exception": false,
     "start_time": "2022-05-04T12:40:18.890103",
     "status": "completed"
    },
    "tags": []
   },
   "outputs": [
    {
     "data": {
      "text/plain": [
       "79"
      ]
     },
     "execution_count": 24,
     "metadata": {},
     "output_type": "execute_result"
    }
   ],
   "source": [
    "del model, X, y, test, X_test, y_test\n",
    "gc.collect()"
   ]
  },
  {
   "cell_type": "code",
   "execution_count": 25,
   "id": "0f11e7e1",
   "metadata": {
    "execution": {
     "iopub.execute_input": "2022-05-04T12:40:19.175535Z",
     "iopub.status.busy": "2022-05-04T12:40:19.175293Z",
     "iopub.status.idle": "2022-05-04T12:40:19.194677Z",
     "shell.execute_reply": "2022-05-04T12:40:19.193811Z"
    },
    "papermill": {
     "duration": 0.06742,
     "end_time": "2022-05-04T12:40:19.196556",
     "exception": false,
     "start_time": "2022-05-04T12:40:19.129136",
     "status": "completed"
    },
    "tags": []
   },
   "outputs": [
    {
     "data": {
      "text/plain": [
       "array([9.99999881e-01, 1.00000000e+00, 1.11368771e-15, ...,\n",
       "       3.30540128e-02, 1.19109345e-07, 3.45516289e-19], dtype=float32)"
      ]
     },
     "execution_count": 25,
     "metadata": {},
     "output_type": "execute_result"
    }
   ],
   "source": [
    "np.array(y_predict).mean(axis=0)"
   ]
  },
  {
   "cell_type": "markdown",
   "id": "f981bc61",
   "metadata": {
    "papermill": {
     "duration": 0.045291,
     "end_time": "2022-05-04T12:40:19.288870",
     "exception": false,
     "start_time": "2022-05-04T12:40:19.243579",
     "status": "completed"
    },
    "tags": []
   },
   "source": [
    "# Submission"
   ]
  },
  {
   "cell_type": "code",
   "execution_count": 26,
   "id": "048a5d93",
   "metadata": {
    "execution": {
     "iopub.execute_input": "2022-05-04T12:40:19.381525Z",
     "iopub.status.busy": "2022-05-04T12:40:19.381274Z",
     "iopub.status.idle": "2022-05-04T12:40:19.589952Z",
     "shell.execute_reply": "2022-05-04T12:40:19.589259Z"
    },
    "papermill": {
     "duration": 0.257289,
     "end_time": "2022-05-04T12:40:19.591704",
     "exception": false,
     "start_time": "2022-05-04T12:40:19.334415",
     "status": "completed"
    },
    "tags": []
   },
   "outputs": [
    {
     "data": {
      "text/plain": [
       "(700000, 2)"
      ]
     },
     "execution_count": 26,
     "metadata": {},
     "output_type": "execute_result"
    }
   ],
   "source": [
    "submission = pd.read_csv(\"../input/tabular-playground-series-may-2022/sample_submission.csv\")\n",
    "submission.shape"
   ]
  },
  {
   "cell_type": "code",
   "execution_count": 27,
   "id": "109b1191",
   "metadata": {
    "execution": {
     "iopub.execute_input": "2022-05-04T12:40:19.691511Z",
     "iopub.status.busy": "2022-05-04T12:40:19.691260Z",
     "iopub.status.idle": "2022-05-04T12:40:21.391431Z",
     "shell.execute_reply": "2022-05-04T12:40:21.390732Z"
    },
    "papermill": {
     "duration": 1.75353,
     "end_time": "2022-05-04T12:40:21.393318",
     "exception": false,
     "start_time": "2022-05-04T12:40:19.639788",
     "status": "completed"
    },
    "tags": []
   },
   "outputs": [
    {
     "data": {
      "text/html": [
       "<div>\n",
       "<style scoped>\n",
       "    .dataframe tbody tr th:only-of-type {\n",
       "        vertical-align: middle;\n",
       "    }\n",
       "\n",
       "    .dataframe tbody tr th {\n",
       "        vertical-align: top;\n",
       "    }\n",
       "\n",
       "    .dataframe thead th {\n",
       "        text-align: right;\n",
       "    }\n",
       "</style>\n",
       "<table border=\"1\" class=\"dataframe\">\n",
       "  <thead>\n",
       "    <tr style=\"text-align: right;\">\n",
       "      <th></th>\n",
       "      <th>id</th>\n",
       "      <th>target</th>\n",
       "    </tr>\n",
       "  </thead>\n",
       "  <tbody>\n",
       "    <tr>\n",
       "      <th>0</th>\n",
       "      <td>900000</td>\n",
       "      <td>9.999999e-01</td>\n",
       "    </tr>\n",
       "    <tr>\n",
       "      <th>1</th>\n",
       "      <td>900001</td>\n",
       "      <td>1.000000e+00</td>\n",
       "    </tr>\n",
       "    <tr>\n",
       "      <th>2</th>\n",
       "      <td>900002</td>\n",
       "      <td>1.113688e-15</td>\n",
       "    </tr>\n",
       "    <tr>\n",
       "      <th>3</th>\n",
       "      <td>900003</td>\n",
       "      <td>5.958462e-06</td>\n",
       "    </tr>\n",
       "    <tr>\n",
       "      <th>4</th>\n",
       "      <td>900004</td>\n",
       "      <td>1.000000e+00</td>\n",
       "    </tr>\n",
       "    <tr>\n",
       "      <th>...</th>\n",
       "      <td>...</td>\n",
       "      <td>...</td>\n",
       "    </tr>\n",
       "    <tr>\n",
       "      <th>699995</th>\n",
       "      <td>1599995</td>\n",
       "      <td>8.907917e-01</td>\n",
       "    </tr>\n",
       "    <tr>\n",
       "      <th>699996</th>\n",
       "      <td>1599996</td>\n",
       "      <td>1.000000e+00</td>\n",
       "    </tr>\n",
       "    <tr>\n",
       "      <th>699997</th>\n",
       "      <td>1599997</td>\n",
       "      <td>3.305401e-02</td>\n",
       "    </tr>\n",
       "    <tr>\n",
       "      <th>699998</th>\n",
       "      <td>1599998</td>\n",
       "      <td>1.191093e-07</td>\n",
       "    </tr>\n",
       "    <tr>\n",
       "      <th>699999</th>\n",
       "      <td>1599999</td>\n",
       "      <td>3.455163e-19</td>\n",
       "    </tr>\n",
       "  </tbody>\n",
       "</table>\n",
       "<p>700000 rows × 2 columns</p>\n",
       "</div>"
      ],
      "text/plain": [
       "             id        target\n",
       "0        900000  9.999999e-01\n",
       "1        900001  1.000000e+00\n",
       "2        900002  1.113688e-15\n",
       "3        900003  5.958462e-06\n",
       "4        900004  1.000000e+00\n",
       "...         ...           ...\n",
       "699995  1599995  8.907917e-01\n",
       "699996  1599996  1.000000e+00\n",
       "699997  1599997  3.305401e-02\n",
       "699998  1599998  1.191093e-07\n",
       "699999  1599999  3.455163e-19\n",
       "\n",
       "[700000 rows x 2 columns]"
      ]
     },
     "execution_count": 27,
     "metadata": {},
     "output_type": "execute_result"
    }
   ],
   "source": [
    "submission['target'] = np.array(y_predict).mean(axis=0)\n",
    "submission.to_csv('submission.csv', index=False)\n",
    "submission"
   ]
  },
  {
   "cell_type": "code",
   "execution_count": null,
   "id": "ba0310e3",
   "metadata": {
    "papermill": {
     "duration": 0.046965,
     "end_time": "2022-05-04T12:40:21.487742",
     "exception": false,
     "start_time": "2022-05-04T12:40:21.440777",
     "status": "completed"
    },
    "tags": []
   },
   "outputs": [],
   "source": []
  },
  {
   "cell_type": "code",
   "execution_count": null,
   "id": "9f71ceee",
   "metadata": {
    "papermill": {
     "duration": 0.046215,
     "end_time": "2022-05-04T12:40:21.580728",
     "exception": false,
     "start_time": "2022-05-04T12:40:21.534513",
     "status": "completed"
    },
    "tags": []
   },
   "outputs": [],
   "source": []
  },
  {
   "cell_type": "markdown",
   "id": "0d6fd59d",
   "metadata": {
    "papermill": {
     "duration": 0.047296,
     "end_time": "2022-05-04T12:40:21.674644",
     "exception": false,
     "start_time": "2022-05-04T12:40:21.627348",
     "status": "completed"
    },
    "tags": []
   },
   "source": [
    "<center>\n",
    "    <h2 style=\"color:#2c3f51\"> Thanks for reading 👍 </h2>"
   ]
  }
 ],
 "metadata": {
  "kernelspec": {
   "display_name": "Python 3",
   "language": "python",
   "name": "python3"
  },
  "language_info": {
   "codemirror_mode": {
    "name": "ipython",
    "version": 3
   },
   "file_extension": ".py",
   "mimetype": "text/x-python",
   "name": "python",
   "nbconvert_exporter": "python",
   "pygments_lexer": "ipython3",
   "version": "3.7.12"
  },
  "papermill": {
   "default_parameters": {},
   "duration": 3924.206942,
   "end_time": "2022-05-04T12:40:22.948412",
   "environment_variables": {},
   "exception": null,
   "input_path": "__notebook__.ipynb",
   "output_path": "__notebook__.ipynb",
   "parameters": {},
   "start_time": "2022-05-04T11:34:58.741470",
   "version": "2.3.4"
  }
 },
 "nbformat": 4,
 "nbformat_minor": 5
}
