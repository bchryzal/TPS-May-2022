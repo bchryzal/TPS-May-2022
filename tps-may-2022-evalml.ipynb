{
 "cells": [
  {
   "cell_type": "markdown",
   "id": "49d18edf",
   "metadata": {
    "papermill": {
     "duration": 0.036173,
     "end_time": "2022-05-01T20:47:38.986413",
     "exception": false,
     "start_time": "2022-05-01T20:47:38.950240",
     "status": "completed"
    },
    "tags": []
   },
   "source": []
  },
  {
   "cell_type": "code",
   "execution_count": 1,
   "id": "e4849a73",
   "metadata": {
    "_cell_guid": "b1076dfc-b9ad-4769-8c92-a6c4dae69d19",
    "_uuid": "8f2839f25d086af736a60e9eeb907d3b93b6e0e5",
    "execution": {
     "iopub.execute_input": "2022-05-01T20:47:39.057589Z",
     "iopub.status.busy": "2022-05-01T20:47:39.056912Z",
     "iopub.status.idle": "2022-05-01T20:47:41.081791Z",
     "shell.execute_reply": "2022-05-01T20:47:41.080779Z"
    },
    "papermill": {
     "duration": 2.063261,
     "end_time": "2022-05-01T20:47:41.084496",
     "exception": false,
     "start_time": "2022-05-01T20:47:39.021235",
     "status": "completed"
    },
    "tags": []
   },
   "outputs": [],
   "source": [
    "import numpy as np # linear algebra\n",
    "import pandas as pd # data processing, CSV file I/O (e.g. pd.read_csv)\n",
    "\n",
    "import os\n",
    "import optuna\n",
    "import gc\n",
    "\n",
    "from sklearn.metrics import roc_auc_score, accuracy_score\n",
    "from sklearn.metrics import mean_squared_error, mean_absolute_error\n"
   ]
  },
  {
   "cell_type": "markdown",
   "id": "2c86ef49",
   "metadata": {
    "papermill": {
     "duration": 0.033544,
     "end_time": "2022-05-01T20:47:41.151690",
     "exception": false,
     "start_time": "2022-05-01T20:47:41.118146",
     "status": "completed"
    },
    "tags": []
   },
   "source": [
    "# Loading Data"
   ]
  },
  {
   "cell_type": "code",
   "execution_count": 2,
   "id": "962ba9fb",
   "metadata": {
    "execution": {
     "iopub.execute_input": "2022-05-01T20:47:41.221633Z",
     "iopub.status.busy": "2022-05-01T20:47:41.221330Z",
     "iopub.status.idle": "2022-05-01T20:47:57.184631Z",
     "shell.execute_reply": "2022-05-01T20:47:57.183548Z"
    },
    "papermill": {
     "duration": 16.001569,
     "end_time": "2022-05-01T20:47:57.187061",
     "exception": false,
     "start_time": "2022-05-01T20:47:41.185492",
     "status": "completed"
    },
    "tags": []
   },
   "outputs": [
    {
     "data": {
      "text/plain": [
       "((900000, 33), (700000, 32))"
      ]
     },
     "execution_count": 2,
     "metadata": {},
     "output_type": "execute_result"
    }
   ],
   "source": [
    "train = pd.read_csv(\"../input/tabular-playground-series-may-2022/train.csv\")\n",
    "test = pd.read_csv(\"../input/tabular-playground-series-may-2022/test.csv\")\n",
    "\n",
    "train.shape, test.shape"
   ]
  },
  {
   "cell_type": "markdown",
   "id": "6e598c5e",
   "metadata": {
    "papermill": {
     "duration": 0.037028,
     "end_time": "2022-05-01T20:47:57.259513",
     "exception": false,
     "start_time": "2022-05-01T20:47:57.222485",
     "status": "completed"
    },
    "tags": []
   },
   "source": [
    "# Understanding Data"
   ]
  },
  {
   "cell_type": "markdown",
   "id": "a6949327",
   "metadata": {
    "papermill": {
     "duration": 0.034912,
     "end_time": "2022-05-01T20:47:57.330570",
     "exception": false,
     "start_time": "2022-05-01T20:47:57.295658",
     "status": "completed"
    },
    "tags": []
   },
   "source": [
    "- Describe"
   ]
  },
  {
   "cell_type": "code",
   "execution_count": 3,
   "id": "806051f0",
   "metadata": {
    "execution": {
     "iopub.execute_input": "2022-05-01T20:47:57.402793Z",
     "iopub.status.busy": "2022-05-01T20:47:57.402126Z",
     "iopub.status.idle": "2022-05-01T20:47:58.672348Z",
     "shell.execute_reply": "2022-05-01T20:47:58.671343Z"
    },
    "papermill": {
     "duration": 1.310203,
     "end_time": "2022-05-01T20:47:58.676033",
     "exception": false,
     "start_time": "2022-05-01T20:47:57.365830",
     "status": "completed"
    },
    "tags": []
   },
   "outputs": [
    {
     "data": {
      "text/html": [
       "<div>\n",
       "<style scoped>\n",
       "    .dataframe tbody tr th:only-of-type {\n",
       "        vertical-align: middle;\n",
       "    }\n",
       "\n",
       "    .dataframe tbody tr th {\n",
       "        vertical-align: top;\n",
       "    }\n",
       "\n",
       "    .dataframe thead th {\n",
       "        text-align: right;\n",
       "    }\n",
       "</style>\n",
       "<table border=\"1\" class=\"dataframe\">\n",
       "  <thead>\n",
       "    <tr style=\"text-align: right;\">\n",
       "      <th></th>\n",
       "      <th>id</th>\n",
       "      <th>f_00</th>\n",
       "      <th>f_01</th>\n",
       "      <th>f_02</th>\n",
       "      <th>f_03</th>\n",
       "      <th>f_04</th>\n",
       "      <th>f_05</th>\n",
       "      <th>f_06</th>\n",
       "      <th>f_07</th>\n",
       "      <th>f_08</th>\n",
       "      <th>...</th>\n",
       "      <th>f_21</th>\n",
       "      <th>f_22</th>\n",
       "      <th>f_23</th>\n",
       "      <th>f_24</th>\n",
       "      <th>f_25</th>\n",
       "      <th>f_26</th>\n",
       "      <th>f_28</th>\n",
       "      <th>f_29</th>\n",
       "      <th>f_30</th>\n",
       "      <th>target</th>\n",
       "    </tr>\n",
       "  </thead>\n",
       "  <tbody>\n",
       "    <tr>\n",
       "      <th>count</th>\n",
       "      <td>900000.000000</td>\n",
       "      <td>900000.000000</td>\n",
       "      <td>900000.000000</td>\n",
       "      <td>900000.000000</td>\n",
       "      <td>900000.000000</td>\n",
       "      <td>900000.000000</td>\n",
       "      <td>900000.000000</td>\n",
       "      <td>900000.000000</td>\n",
       "      <td>900000.000000</td>\n",
       "      <td>900000.000000</td>\n",
       "      <td>...</td>\n",
       "      <td>900000.000000</td>\n",
       "      <td>900000.000000</td>\n",
       "      <td>900000.000000</td>\n",
       "      <td>900000.000000</td>\n",
       "      <td>900000.000000</td>\n",
       "      <td>900000.000000</td>\n",
       "      <td>900000.000000</td>\n",
       "      <td>900000.000000</td>\n",
       "      <td>900000.000000</td>\n",
       "      <td>900000.000000</td>\n",
       "    </tr>\n",
       "    <tr>\n",
       "      <th>mean</th>\n",
       "      <td>449999.500000</td>\n",
       "      <td>-0.000286</td>\n",
       "      <td>0.001165</td>\n",
       "      <td>0.001174</td>\n",
       "      <td>-0.001368</td>\n",
       "      <td>-0.000571</td>\n",
       "      <td>0.000284</td>\n",
       "      <td>-0.000709</td>\n",
       "      <td>2.031460</td>\n",
       "      <td>2.057998</td>\n",
       "      <td>...</td>\n",
       "      <td>-0.156307</td>\n",
       "      <td>-0.009273</td>\n",
       "      <td>-0.369459</td>\n",
       "      <td>-0.342738</td>\n",
       "      <td>0.176549</td>\n",
       "      <td>0.357591</td>\n",
       "      <td>-0.380876</td>\n",
       "      <td>0.345661</td>\n",
       "      <td>1.002654</td>\n",
       "      <td>0.486488</td>\n",
       "    </tr>\n",
       "    <tr>\n",
       "      <th>std</th>\n",
       "      <td>259807.765473</td>\n",
       "      <td>0.998888</td>\n",
       "      <td>0.999193</td>\n",
       "      <td>1.000514</td>\n",
       "      <td>1.000175</td>\n",
       "      <td>1.000167</td>\n",
       "      <td>0.999875</td>\n",
       "      <td>0.999942</td>\n",
       "      <td>1.656172</td>\n",
       "      <td>1.590955</td>\n",
       "      <td>...</td>\n",
       "      <td>2.484706</td>\n",
       "      <td>2.450797</td>\n",
       "      <td>2.453405</td>\n",
       "      <td>2.386941</td>\n",
       "      <td>2.416959</td>\n",
       "      <td>2.476020</td>\n",
       "      <td>238.773054</td>\n",
       "      <td>0.475584</td>\n",
       "      <td>0.818989</td>\n",
       "      <td>0.499818</td>\n",
       "    </tr>\n",
       "    <tr>\n",
       "      <th>min</th>\n",
       "      <td>0.000000</td>\n",
       "      <td>-4.599856</td>\n",
       "      <td>-4.682199</td>\n",
       "      <td>-4.642676</td>\n",
       "      <td>-4.658816</td>\n",
       "      <td>-4.748501</td>\n",
       "      <td>-4.750214</td>\n",
       "      <td>-4.842919</td>\n",
       "      <td>0.000000</td>\n",
       "      <td>0.000000</td>\n",
       "      <td>...</td>\n",
       "      <td>-13.310146</td>\n",
       "      <td>-11.853530</td>\n",
       "      <td>-12.301097</td>\n",
       "      <td>-11.416189</td>\n",
       "      <td>-11.918306</td>\n",
       "      <td>-14.300577</td>\n",
       "      <td>-1229.753052</td>\n",
       "      <td>0.000000</td>\n",
       "      <td>0.000000</td>\n",
       "      <td>0.000000</td>\n",
       "    </tr>\n",
       "    <tr>\n",
       "      <th>25%</th>\n",
       "      <td>224999.750000</td>\n",
       "      <td>-0.675490</td>\n",
       "      <td>-0.675162</td>\n",
       "      <td>-0.674369</td>\n",
       "      <td>-0.676114</td>\n",
       "      <td>-0.675909</td>\n",
       "      <td>-0.673437</td>\n",
       "      <td>-0.674876</td>\n",
       "      <td>1.000000</td>\n",
       "      <td>1.000000</td>\n",
       "      <td>...</td>\n",
       "      <td>-1.820063</td>\n",
       "      <td>-1.645585</td>\n",
       "      <td>-2.019739</td>\n",
       "      <td>-1.955956</td>\n",
       "      <td>-1.440424</td>\n",
       "      <td>-1.261598</td>\n",
       "      <td>-159.427418</td>\n",
       "      <td>0.000000</td>\n",
       "      <td>0.000000</td>\n",
       "      <td>0.000000</td>\n",
       "    </tr>\n",
       "    <tr>\n",
       "      <th>50%</th>\n",
       "      <td>449999.500000</td>\n",
       "      <td>0.001144</td>\n",
       "      <td>0.002014</td>\n",
       "      <td>0.002218</td>\n",
       "      <td>-0.002227</td>\n",
       "      <td>-0.001662</td>\n",
       "      <td>-0.000438</td>\n",
       "      <td>-0.001492</td>\n",
       "      <td>2.000000</td>\n",
       "      <td>2.000000</td>\n",
       "      <td>...</td>\n",
       "      <td>-0.152668</td>\n",
       "      <td>0.030850</td>\n",
       "      <td>-0.390966</td>\n",
       "      <td>-0.340746</td>\n",
       "      <td>0.160912</td>\n",
       "      <td>0.404212</td>\n",
       "      <td>-0.519808</td>\n",
       "      <td>0.000000</td>\n",
       "      <td>1.000000</td>\n",
       "      <td>0.000000</td>\n",
       "    </tr>\n",
       "    <tr>\n",
       "      <th>75%</th>\n",
       "      <td>674999.250000</td>\n",
       "      <td>0.674337</td>\n",
       "      <td>0.675021</td>\n",
       "      <td>0.677505</td>\n",
       "      <td>0.672544</td>\n",
       "      <td>0.673789</td>\n",
       "      <td>0.675028</td>\n",
       "      <td>0.674749</td>\n",
       "      <td>3.000000</td>\n",
       "      <td>3.000000</td>\n",
       "      <td>...</td>\n",
       "      <td>1.507071</td>\n",
       "      <td>1.661676</td>\n",
       "      <td>1.255408</td>\n",
       "      <td>1.266673</td>\n",
       "      <td>1.795928</td>\n",
       "      <td>2.028219</td>\n",
       "      <td>158.987357</td>\n",
       "      <td>1.000000</td>\n",
       "      <td>2.000000</td>\n",
       "      <td>1.000000</td>\n",
       "    </tr>\n",
       "    <tr>\n",
       "      <th>max</th>\n",
       "      <td>899999.000000</td>\n",
       "      <td>4.749301</td>\n",
       "      <td>4.815699</td>\n",
       "      <td>4.961982</td>\n",
       "      <td>4.454920</td>\n",
       "      <td>4.948983</td>\n",
       "      <td>4.971881</td>\n",
       "      <td>4.822668</td>\n",
       "      <td>15.000000</td>\n",
       "      <td>16.000000</td>\n",
       "      <td>...</td>\n",
       "      <td>14.455426</td>\n",
       "      <td>11.344080</td>\n",
       "      <td>12.247100</td>\n",
       "      <td>12.389844</td>\n",
       "      <td>12.529179</td>\n",
       "      <td>12.913041</td>\n",
       "      <td>1229.562577</td>\n",
       "      <td>1.000000</td>\n",
       "      <td>2.000000</td>\n",
       "      <td>1.000000</td>\n",
       "    </tr>\n",
       "  </tbody>\n",
       "</table>\n",
       "<p>8 rows × 32 columns</p>\n",
       "</div>"
      ],
      "text/plain": [
       "                  id           f_00           f_01           f_02  \\\n",
       "count  900000.000000  900000.000000  900000.000000  900000.000000   \n",
       "mean   449999.500000      -0.000286       0.001165       0.001174   \n",
       "std    259807.765473       0.998888       0.999193       1.000514   \n",
       "min         0.000000      -4.599856      -4.682199      -4.642676   \n",
       "25%    224999.750000      -0.675490      -0.675162      -0.674369   \n",
       "50%    449999.500000       0.001144       0.002014       0.002218   \n",
       "75%    674999.250000       0.674337       0.675021       0.677505   \n",
       "max    899999.000000       4.749301       4.815699       4.961982   \n",
       "\n",
       "                f_03           f_04           f_05           f_06  \\\n",
       "count  900000.000000  900000.000000  900000.000000  900000.000000   \n",
       "mean       -0.001368      -0.000571       0.000284      -0.000709   \n",
       "std         1.000175       1.000167       0.999875       0.999942   \n",
       "min        -4.658816      -4.748501      -4.750214      -4.842919   \n",
       "25%        -0.676114      -0.675909      -0.673437      -0.674876   \n",
       "50%        -0.002227      -0.001662      -0.000438      -0.001492   \n",
       "75%         0.672544       0.673789       0.675028       0.674749   \n",
       "max         4.454920       4.948983       4.971881       4.822668   \n",
       "\n",
       "                f_07           f_08  ...           f_21           f_22  \\\n",
       "count  900000.000000  900000.000000  ...  900000.000000  900000.000000   \n",
       "mean        2.031460       2.057998  ...      -0.156307      -0.009273   \n",
       "std         1.656172       1.590955  ...       2.484706       2.450797   \n",
       "min         0.000000       0.000000  ...     -13.310146     -11.853530   \n",
       "25%         1.000000       1.000000  ...      -1.820063      -1.645585   \n",
       "50%         2.000000       2.000000  ...      -0.152668       0.030850   \n",
       "75%         3.000000       3.000000  ...       1.507071       1.661676   \n",
       "max        15.000000      16.000000  ...      14.455426      11.344080   \n",
       "\n",
       "                f_23           f_24           f_25           f_26  \\\n",
       "count  900000.000000  900000.000000  900000.000000  900000.000000   \n",
       "mean       -0.369459      -0.342738       0.176549       0.357591   \n",
       "std         2.453405       2.386941       2.416959       2.476020   \n",
       "min       -12.301097     -11.416189     -11.918306     -14.300577   \n",
       "25%        -2.019739      -1.955956      -1.440424      -1.261598   \n",
       "50%        -0.390966      -0.340746       0.160912       0.404212   \n",
       "75%         1.255408       1.266673       1.795928       2.028219   \n",
       "max        12.247100      12.389844      12.529179      12.913041   \n",
       "\n",
       "                f_28           f_29           f_30         target  \n",
       "count  900000.000000  900000.000000  900000.000000  900000.000000  \n",
       "mean       -0.380876       0.345661       1.002654       0.486488  \n",
       "std       238.773054       0.475584       0.818989       0.499818  \n",
       "min     -1229.753052       0.000000       0.000000       0.000000  \n",
       "25%      -159.427418       0.000000       0.000000       0.000000  \n",
       "50%        -0.519808       0.000000       1.000000       0.000000  \n",
       "75%       158.987357       1.000000       2.000000       1.000000  \n",
       "max      1229.562577       1.000000       2.000000       1.000000  \n",
       "\n",
       "[8 rows x 32 columns]"
      ]
     },
     "execution_count": 3,
     "metadata": {},
     "output_type": "execute_result"
    }
   ],
   "source": [
    "train.describe()"
   ]
  },
  {
   "cell_type": "code",
   "execution_count": 4,
   "id": "02d14bb8",
   "metadata": {
    "execution": {
     "iopub.execute_input": "2022-05-01T20:47:58.749956Z",
     "iopub.status.busy": "2022-05-01T20:47:58.749337Z",
     "iopub.status.idle": "2022-05-01T20:47:59.839631Z",
     "shell.execute_reply": "2022-05-01T20:47:59.838793Z"
    },
    "papermill": {
     "duration": 1.130144,
     "end_time": "2022-05-01T20:47:59.841823",
     "exception": false,
     "start_time": "2022-05-01T20:47:58.711679",
     "status": "completed"
    },
    "tags": []
   },
   "outputs": [
    {
     "data": {
      "text/html": [
       "<div>\n",
       "<style scoped>\n",
       "    .dataframe tbody tr th:only-of-type {\n",
       "        vertical-align: middle;\n",
       "    }\n",
       "\n",
       "    .dataframe tbody tr th {\n",
       "        vertical-align: top;\n",
       "    }\n",
       "\n",
       "    .dataframe thead th {\n",
       "        text-align: right;\n",
       "    }\n",
       "</style>\n",
       "<table border=\"1\" class=\"dataframe\">\n",
       "  <thead>\n",
       "    <tr style=\"text-align: right;\">\n",
       "      <th></th>\n",
       "      <th>id</th>\n",
       "      <th>f_00</th>\n",
       "      <th>f_01</th>\n",
       "      <th>f_02</th>\n",
       "      <th>f_03</th>\n",
       "      <th>f_04</th>\n",
       "      <th>f_05</th>\n",
       "      <th>f_06</th>\n",
       "      <th>f_07</th>\n",
       "      <th>f_08</th>\n",
       "      <th>...</th>\n",
       "      <th>f_20</th>\n",
       "      <th>f_21</th>\n",
       "      <th>f_22</th>\n",
       "      <th>f_23</th>\n",
       "      <th>f_24</th>\n",
       "      <th>f_25</th>\n",
       "      <th>f_26</th>\n",
       "      <th>f_28</th>\n",
       "      <th>f_29</th>\n",
       "      <th>f_30</th>\n",
       "    </tr>\n",
       "  </thead>\n",
       "  <tbody>\n",
       "    <tr>\n",
       "      <th>count</th>\n",
       "      <td>7.000000e+05</td>\n",
       "      <td>700000.000000</td>\n",
       "      <td>700000.000000</td>\n",
       "      <td>700000.000000</td>\n",
       "      <td>700000.000000</td>\n",
       "      <td>700000.000000</td>\n",
       "      <td>700000.000000</td>\n",
       "      <td>700000.000000</td>\n",
       "      <td>700000.000000</td>\n",
       "      <td>700000.000000</td>\n",
       "      <td>...</td>\n",
       "      <td>700000.000000</td>\n",
       "      <td>700000.000000</td>\n",
       "      <td>700000.000000</td>\n",
       "      <td>700000.000000</td>\n",
       "      <td>700000.000000</td>\n",
       "      <td>700000.000000</td>\n",
       "      <td>700000.000000</td>\n",
       "      <td>700000.000000</td>\n",
       "      <td>700000.000000</td>\n",
       "      <td>700000.000000</td>\n",
       "    </tr>\n",
       "    <tr>\n",
       "      <th>mean</th>\n",
       "      <td>1.250000e+06</td>\n",
       "      <td>-0.000087</td>\n",
       "      <td>-0.000732</td>\n",
       "      <td>-0.000385</td>\n",
       "      <td>0.000705</td>\n",
       "      <td>0.000800</td>\n",
       "      <td>-0.000468</td>\n",
       "      <td>0.002550</td>\n",
       "      <td>2.030819</td>\n",
       "      <td>2.056923</td>\n",
       "      <td>...</td>\n",
       "      <td>-0.173972</td>\n",
       "      <td>-0.153938</td>\n",
       "      <td>-0.005623</td>\n",
       "      <td>-0.371983</td>\n",
       "      <td>-0.340683</td>\n",
       "      <td>0.174245</td>\n",
       "      <td>0.356288</td>\n",
       "      <td>0.604213</td>\n",
       "      <td>0.346090</td>\n",
       "      <td>1.003081</td>\n",
       "    </tr>\n",
       "    <tr>\n",
       "      <th>std</th>\n",
       "      <td>2.020727e+05</td>\n",
       "      <td>1.000264</td>\n",
       "      <td>0.997131</td>\n",
       "      <td>1.000317</td>\n",
       "      <td>1.001758</td>\n",
       "      <td>0.999088</td>\n",
       "      <td>1.000249</td>\n",
       "      <td>0.999536</td>\n",
       "      <td>1.655909</td>\n",
       "      <td>1.591726</td>\n",
       "      <td>...</td>\n",
       "      <td>2.397938</td>\n",
       "      <td>2.484198</td>\n",
       "      <td>2.450907</td>\n",
       "      <td>2.452619</td>\n",
       "      <td>2.388938</td>\n",
       "      <td>2.417555</td>\n",
       "      <td>2.477713</td>\n",
       "      <td>238.888993</td>\n",
       "      <td>0.475723</td>\n",
       "      <td>0.819673</td>\n",
       "    </tr>\n",
       "    <tr>\n",
       "      <th>min</th>\n",
       "      <td>9.000000e+05</td>\n",
       "      <td>-4.658018</td>\n",
       "      <td>-4.922718</td>\n",
       "      <td>-4.457561</td>\n",
       "      <td>-4.567419</td>\n",
       "      <td>-4.675301</td>\n",
       "      <td>-5.141356</td>\n",
       "      <td>-4.782164</td>\n",
       "      <td>0.000000</td>\n",
       "      <td>0.000000</td>\n",
       "      <td>...</td>\n",
       "      <td>-11.089910</td>\n",
       "      <td>-12.186778</td>\n",
       "      <td>-11.700814</td>\n",
       "      <td>-12.104478</td>\n",
       "      <td>-11.838417</td>\n",
       "      <td>-13.312784</td>\n",
       "      <td>-13.462486</td>\n",
       "      <td>-1204.243716</td>\n",
       "      <td>0.000000</td>\n",
       "      <td>0.000000</td>\n",
       "    </tr>\n",
       "    <tr>\n",
       "      <th>25%</th>\n",
       "      <td>1.075000e+06</td>\n",
       "      <td>-0.675708</td>\n",
       "      <td>-0.674040</td>\n",
       "      <td>-0.675961</td>\n",
       "      <td>-0.674561</td>\n",
       "      <td>-0.674696</td>\n",
       "      <td>-0.674444</td>\n",
       "      <td>-0.671481</td>\n",
       "      <td>1.000000</td>\n",
       "      <td>1.000000</td>\n",
       "      <td>...</td>\n",
       "      <td>-1.794757</td>\n",
       "      <td>-1.816739</td>\n",
       "      <td>-1.641035</td>\n",
       "      <td>-2.021342</td>\n",
       "      <td>-1.948923</td>\n",
       "      <td>-1.443815</td>\n",
       "      <td>-1.263991</td>\n",
       "      <td>-158.660917</td>\n",
       "      <td>0.000000</td>\n",
       "      <td>0.000000</td>\n",
       "    </tr>\n",
       "    <tr>\n",
       "      <th>50%</th>\n",
       "      <td>1.250000e+06</td>\n",
       "      <td>-0.000395</td>\n",
       "      <td>-0.000241</td>\n",
       "      <td>-0.000723</td>\n",
       "      <td>-0.000294</td>\n",
       "      <td>0.000276</td>\n",
       "      <td>-0.001674</td>\n",
       "      <td>0.002623</td>\n",
       "      <td>2.000000</td>\n",
       "      <td>2.000000</td>\n",
       "      <td>...</td>\n",
       "      <td>-0.184945</td>\n",
       "      <td>-0.149100</td>\n",
       "      <td>0.033726</td>\n",
       "      <td>-0.396281</td>\n",
       "      <td>-0.339431</td>\n",
       "      <td>0.165229</td>\n",
       "      <td>0.399981</td>\n",
       "      <td>0.671386</td>\n",
       "      <td>0.000000</td>\n",
       "      <td>1.000000</td>\n",
       "    </tr>\n",
       "    <tr>\n",
       "      <th>75%</th>\n",
       "      <td>1.424999e+06</td>\n",
       "      <td>0.675788</td>\n",
       "      <td>0.671415</td>\n",
       "      <td>0.673105</td>\n",
       "      <td>0.676376</td>\n",
       "      <td>0.674542</td>\n",
       "      <td>0.674146</td>\n",
       "      <td>0.676590</td>\n",
       "      <td>3.000000</td>\n",
       "      <td>3.000000</td>\n",
       "      <td>...</td>\n",
       "      <td>1.447103</td>\n",
       "      <td>1.508052</td>\n",
       "      <td>1.664146</td>\n",
       "      <td>1.251361</td>\n",
       "      <td>1.269879</td>\n",
       "      <td>1.794429</td>\n",
       "      <td>2.025163</td>\n",
       "      <td>159.789006</td>\n",
       "      <td>1.000000</td>\n",
       "      <td>2.000000</td>\n",
       "    </tr>\n",
       "    <tr>\n",
       "      <th>max</th>\n",
       "      <td>1.599999e+06</td>\n",
       "      <td>5.761950</td>\n",
       "      <td>4.768073</td>\n",
       "      <td>4.599902</td>\n",
       "      <td>4.899904</td>\n",
       "      <td>4.494312</td>\n",
       "      <td>4.701004</td>\n",
       "      <td>4.673145</td>\n",
       "      <td>16.000000</td>\n",
       "      <td>13.000000</td>\n",
       "      <td>...</td>\n",
       "      <td>10.691366</td>\n",
       "      <td>11.999494</td>\n",
       "      <td>10.991597</td>\n",
       "      <td>11.366652</td>\n",
       "      <td>10.236546</td>\n",
       "      <td>11.294340</td>\n",
       "      <td>12.811976</td>\n",
       "      <td>1141.957328</td>\n",
       "      <td>1.000000</td>\n",
       "      <td>2.000000</td>\n",
       "    </tr>\n",
       "  </tbody>\n",
       "</table>\n",
       "<p>8 rows × 31 columns</p>\n",
       "</div>"
      ],
      "text/plain": [
       "                 id           f_00           f_01           f_02  \\\n",
       "count  7.000000e+05  700000.000000  700000.000000  700000.000000   \n",
       "mean   1.250000e+06      -0.000087      -0.000732      -0.000385   \n",
       "std    2.020727e+05       1.000264       0.997131       1.000317   \n",
       "min    9.000000e+05      -4.658018      -4.922718      -4.457561   \n",
       "25%    1.075000e+06      -0.675708      -0.674040      -0.675961   \n",
       "50%    1.250000e+06      -0.000395      -0.000241      -0.000723   \n",
       "75%    1.424999e+06       0.675788       0.671415       0.673105   \n",
       "max    1.599999e+06       5.761950       4.768073       4.599902   \n",
       "\n",
       "                f_03           f_04           f_05           f_06  \\\n",
       "count  700000.000000  700000.000000  700000.000000  700000.000000   \n",
       "mean        0.000705       0.000800      -0.000468       0.002550   \n",
       "std         1.001758       0.999088       1.000249       0.999536   \n",
       "min        -4.567419      -4.675301      -5.141356      -4.782164   \n",
       "25%        -0.674561      -0.674696      -0.674444      -0.671481   \n",
       "50%        -0.000294       0.000276      -0.001674       0.002623   \n",
       "75%         0.676376       0.674542       0.674146       0.676590   \n",
       "max         4.899904       4.494312       4.701004       4.673145   \n",
       "\n",
       "                f_07           f_08  ...           f_20           f_21  \\\n",
       "count  700000.000000  700000.000000  ...  700000.000000  700000.000000   \n",
       "mean        2.030819       2.056923  ...      -0.173972      -0.153938   \n",
       "std         1.655909       1.591726  ...       2.397938       2.484198   \n",
       "min         0.000000       0.000000  ...     -11.089910     -12.186778   \n",
       "25%         1.000000       1.000000  ...      -1.794757      -1.816739   \n",
       "50%         2.000000       2.000000  ...      -0.184945      -0.149100   \n",
       "75%         3.000000       3.000000  ...       1.447103       1.508052   \n",
       "max        16.000000      13.000000  ...      10.691366      11.999494   \n",
       "\n",
       "                f_22           f_23           f_24           f_25  \\\n",
       "count  700000.000000  700000.000000  700000.000000  700000.000000   \n",
       "mean       -0.005623      -0.371983      -0.340683       0.174245   \n",
       "std         2.450907       2.452619       2.388938       2.417555   \n",
       "min       -11.700814     -12.104478     -11.838417     -13.312784   \n",
       "25%        -1.641035      -2.021342      -1.948923      -1.443815   \n",
       "50%         0.033726      -0.396281      -0.339431       0.165229   \n",
       "75%         1.664146       1.251361       1.269879       1.794429   \n",
       "max        10.991597      11.366652      10.236546      11.294340   \n",
       "\n",
       "                f_26           f_28           f_29           f_30  \n",
       "count  700000.000000  700000.000000  700000.000000  700000.000000  \n",
       "mean        0.356288       0.604213       0.346090       1.003081  \n",
       "std         2.477713     238.888993       0.475723       0.819673  \n",
       "min       -13.462486   -1204.243716       0.000000       0.000000  \n",
       "25%        -1.263991    -158.660917       0.000000       0.000000  \n",
       "50%         0.399981       0.671386       0.000000       1.000000  \n",
       "75%         2.025163     159.789006       1.000000       2.000000  \n",
       "max        12.811976    1141.957328       1.000000       2.000000  \n",
       "\n",
       "[8 rows x 31 columns]"
      ]
     },
     "execution_count": 4,
     "metadata": {},
     "output_type": "execute_result"
    }
   ],
   "source": [
    "test.describe()"
   ]
  },
  {
   "cell_type": "markdown",
   "id": "ca3e070b",
   "metadata": {
    "papermill": {
     "duration": 0.035598,
     "end_time": "2022-05-01T20:47:59.913613",
     "exception": false,
     "start_time": "2022-05-01T20:47:59.878015",
     "status": "completed"
    },
    "tags": []
   },
   "source": [
    "- Infos"
   ]
  },
  {
   "cell_type": "code",
   "execution_count": 5,
   "id": "f37d9f5e",
   "metadata": {
    "execution": {
     "iopub.execute_input": "2022-05-01T20:47:59.989420Z",
     "iopub.status.busy": "2022-05-01T20:47:59.989080Z",
     "iopub.status.idle": "2022-05-01T20:48:00.173757Z",
     "shell.execute_reply": "2022-05-01T20:48:00.172890Z"
    },
    "papermill": {
     "duration": 0.225274,
     "end_time": "2022-05-01T20:48:00.176134",
     "exception": false,
     "start_time": "2022-05-01T20:47:59.950860",
     "status": "completed"
    },
    "tags": []
   },
   "outputs": [
    {
     "name": "stdout",
     "output_type": "stream",
     "text": [
      "<class 'pandas.core.frame.DataFrame'>\n",
      "RangeIndex: 900000 entries, 0 to 899999\n",
      "Data columns (total 33 columns):\n",
      " #   Column  Non-Null Count   Dtype  \n",
      "---  ------  --------------   -----  \n",
      " 0   id      900000 non-null  int64  \n",
      " 1   f_00    900000 non-null  float64\n",
      " 2   f_01    900000 non-null  float64\n",
      " 3   f_02    900000 non-null  float64\n",
      " 4   f_03    900000 non-null  float64\n",
      " 5   f_04    900000 non-null  float64\n",
      " 6   f_05    900000 non-null  float64\n",
      " 7   f_06    900000 non-null  float64\n",
      " 8   f_07    900000 non-null  int64  \n",
      " 9   f_08    900000 non-null  int64  \n",
      " 10  f_09    900000 non-null  int64  \n",
      " 11  f_10    900000 non-null  int64  \n",
      " 12  f_11    900000 non-null  int64  \n",
      " 13  f_12    900000 non-null  int64  \n",
      " 14  f_13    900000 non-null  int64  \n",
      " 15  f_14    900000 non-null  int64  \n",
      " 16  f_15    900000 non-null  int64  \n",
      " 17  f_16    900000 non-null  int64  \n",
      " 18  f_17    900000 non-null  int64  \n",
      " 19  f_18    900000 non-null  int64  \n",
      " 20  f_19    900000 non-null  float64\n",
      " 21  f_20    900000 non-null  float64\n",
      " 22  f_21    900000 non-null  float64\n",
      " 23  f_22    900000 non-null  float64\n",
      " 24  f_23    900000 non-null  float64\n",
      " 25  f_24    900000 non-null  float64\n",
      " 26  f_25    900000 non-null  float64\n",
      " 27  f_26    900000 non-null  float64\n",
      " 28  f_27    900000 non-null  object \n",
      " 29  f_28    900000 non-null  float64\n",
      " 30  f_29    900000 non-null  int64  \n",
      " 31  f_30    900000 non-null  int64  \n",
      " 32  target  900000 non-null  int64  \n",
      "dtypes: float64(16), int64(16), object(1)\n",
      "memory usage: 226.6+ MB\n"
     ]
    }
   ],
   "source": [
    "train.info()"
   ]
  },
  {
   "cell_type": "markdown",
   "id": "e799bf70",
   "metadata": {
    "papermill": {
     "duration": 0.037419,
     "end_time": "2022-05-01T20:48:00.250318",
     "exception": false,
     "start_time": "2022-05-01T20:48:00.212899",
     "status": "completed"
    },
    "tags": []
   },
   "source": [
    "We have :\n",
    "- 16 float64 columns\n",
    "- 16 int64 columns\n",
    "- 1 object columns"
   ]
  },
  {
   "cell_type": "code",
   "execution_count": 6,
   "id": "ae7e4963",
   "metadata": {
    "execution": {
     "iopub.execute_input": "2022-05-01T20:48:00.325730Z",
     "iopub.status.busy": "2022-05-01T20:48:00.325284Z",
     "iopub.status.idle": "2022-05-01T20:48:00.468655Z",
     "shell.execute_reply": "2022-05-01T20:48:00.468013Z"
    },
    "papermill": {
     "duration": 0.18357,
     "end_time": "2022-05-01T20:48:00.470967",
     "exception": false,
     "start_time": "2022-05-01T20:48:00.287397",
     "status": "completed"
    },
    "tags": []
   },
   "outputs": [
    {
     "name": "stdout",
     "output_type": "stream",
     "text": [
      "<class 'pandas.core.frame.DataFrame'>\n",
      "RangeIndex: 700000 entries, 0 to 699999\n",
      "Data columns (total 32 columns):\n",
      " #   Column  Non-Null Count   Dtype  \n",
      "---  ------  --------------   -----  \n",
      " 0   id      700000 non-null  int64  \n",
      " 1   f_00    700000 non-null  float64\n",
      " 2   f_01    700000 non-null  float64\n",
      " 3   f_02    700000 non-null  float64\n",
      " 4   f_03    700000 non-null  float64\n",
      " 5   f_04    700000 non-null  float64\n",
      " 6   f_05    700000 non-null  float64\n",
      " 7   f_06    700000 non-null  float64\n",
      " 8   f_07    700000 non-null  int64  \n",
      " 9   f_08    700000 non-null  int64  \n",
      " 10  f_09    700000 non-null  int64  \n",
      " 11  f_10    700000 non-null  int64  \n",
      " 12  f_11    700000 non-null  int64  \n",
      " 13  f_12    700000 non-null  int64  \n",
      " 14  f_13    700000 non-null  int64  \n",
      " 15  f_14    700000 non-null  int64  \n",
      " 16  f_15    700000 non-null  int64  \n",
      " 17  f_16    700000 non-null  int64  \n",
      " 18  f_17    700000 non-null  int64  \n",
      " 19  f_18    700000 non-null  int64  \n",
      " 20  f_19    700000 non-null  float64\n",
      " 21  f_20    700000 non-null  float64\n",
      " 22  f_21    700000 non-null  float64\n",
      " 23  f_22    700000 non-null  float64\n",
      " 24  f_23    700000 non-null  float64\n",
      " 25  f_24    700000 non-null  float64\n",
      " 26  f_25    700000 non-null  float64\n",
      " 27  f_26    700000 non-null  float64\n",
      " 28  f_27    700000 non-null  object \n",
      " 29  f_28    700000 non-null  float64\n",
      " 30  f_29    700000 non-null  int64  \n",
      " 31  f_30    700000 non-null  int64  \n",
      "dtypes: float64(16), int64(15), object(1)\n",
      "memory usage: 170.9+ MB\n"
     ]
    }
   ],
   "source": [
    "test.info()"
   ]
  },
  {
   "cell_type": "markdown",
   "id": "f9e57c88",
   "metadata": {
    "papermill": {
     "duration": 0.037262,
     "end_time": "2022-05-01T20:48:00.545487",
     "exception": false,
     "start_time": "2022-05-01T20:48:00.508225",
     "status": "completed"
    },
    "tags": []
   },
   "source": [
    "- Check missing columns"
   ]
  },
  {
   "cell_type": "code",
   "execution_count": 7,
   "id": "351e9d40",
   "metadata": {
    "execution": {
     "iopub.execute_input": "2022-05-01T20:48:00.622819Z",
     "iopub.status.busy": "2022-05-01T20:48:00.622399Z",
     "iopub.status.idle": "2022-05-01T20:48:00.776257Z",
     "shell.execute_reply": "2022-05-01T20:48:00.775402Z"
    },
    "papermill": {
     "duration": 0.195971,
     "end_time": "2022-05-01T20:48:00.779056",
     "exception": false,
     "start_time": "2022-05-01T20:48:00.583085",
     "status": "completed"
    },
    "tags": []
   },
   "outputs": [
    {
     "data": {
      "text/plain": [
       "False"
      ]
     },
     "execution_count": 7,
     "metadata": {},
     "output_type": "execute_result"
    }
   ],
   "source": [
    "train.isna().sum().any()"
   ]
  },
  {
   "cell_type": "code",
   "execution_count": 8,
   "id": "e727a356",
   "metadata": {
    "execution": {
     "iopub.execute_input": "2022-05-01T20:48:00.857218Z",
     "iopub.status.busy": "2022-05-01T20:48:00.856462Z",
     "iopub.status.idle": "2022-05-01T20:48:00.972820Z",
     "shell.execute_reply": "2022-05-01T20:48:00.971971Z"
    },
    "papermill": {
     "duration": 0.158616,
     "end_time": "2022-05-01T20:48:00.975200",
     "exception": false,
     "start_time": "2022-05-01T20:48:00.816584",
     "status": "completed"
    },
    "tags": []
   },
   "outputs": [
    {
     "data": {
      "text/plain": [
       "False"
      ]
     },
     "execution_count": 8,
     "metadata": {},
     "output_type": "execute_result"
    }
   ],
   "source": [
    "test.isna().sum().any()"
   ]
  },
  {
   "cell_type": "code",
   "execution_count": null,
   "id": "26ef47b3",
   "metadata": {
    "papermill": {
     "duration": 0.037493,
     "end_time": "2022-05-01T20:48:01.050986",
     "exception": false,
     "start_time": "2022-05-01T20:48:01.013493",
     "status": "completed"
    },
    "tags": []
   },
   "outputs": [],
   "source": []
  },
  {
   "cell_type": "markdown",
   "id": "a1017656",
   "metadata": {
    "papermill": {
     "duration": 0.037466,
     "end_time": "2022-05-01T20:48:01.126744",
     "exception": false,
     "start_time": "2022-05-01T20:48:01.089278",
     "status": "completed"
    },
    "tags": []
   },
   "source": [
    "# Feature Engineering (from @ambrosm)"
   ]
  },
  {
   "cell_type": "markdown",
   "id": "8193c8f2",
   "metadata": {
    "papermill": {
     "duration": 0.037473,
     "end_time": "2022-05-01T20:48:01.202084",
     "exception": false,
     "start_time": "2022-05-01T20:48:01.164611",
     "status": "completed"
    },
    "tags": []
   },
   "source": [
    "Nous remercions @ambrosm pour le travail fait et partagé sur cette section dans son [carnet](https://www.kaggle.com/code/ambrosm/tpsmay22-keras-quickstart#Feature-engineering).\n",
    "\n",
    "\"*We read the data and apply minimal feature engineering: We only split the f_27 string into ten separate features as described in the [EDA](https://www.kaggle.com/code/ambrosm/tpsmay22-eda-which-makes-sense), and we count the unique characters in the string.*\""
   ]
  },
  {
   "cell_type": "code",
   "execution_count": 9,
   "id": "9c394945",
   "metadata": {
    "execution": {
     "iopub.execute_input": "2022-05-01T20:48:01.280096Z",
     "iopub.status.busy": "2022-05-01T20:48:01.279193Z",
     "iopub.status.idle": "2022-05-01T20:48:22.483742Z",
     "shell.execute_reply": "2022-05-01T20:48:22.482861Z"
    },
    "papermill": {
     "duration": 21.245682,
     "end_time": "2022-05-01T20:48:22.485861",
     "exception": false,
     "start_time": "2022-05-01T20:48:01.240179",
     "status": "completed"
    },
    "tags": []
   },
   "outputs": [
    {
     "data": {
      "text/html": [
       "<div>\n",
       "<style scoped>\n",
       "    .dataframe tbody tr th:only-of-type {\n",
       "        vertical-align: middle;\n",
       "    }\n",
       "\n",
       "    .dataframe tbody tr th {\n",
       "        vertical-align: top;\n",
       "    }\n",
       "\n",
       "    .dataframe thead th {\n",
       "        text-align: right;\n",
       "    }\n",
       "</style>\n",
       "<table border=\"1\" class=\"dataframe\">\n",
       "  <thead>\n",
       "    <tr style=\"text-align: right;\">\n",
       "      <th></th>\n",
       "      <th>f_00</th>\n",
       "      <th>f_01</th>\n",
       "      <th>f_02</th>\n",
       "      <th>f_03</th>\n",
       "      <th>f_04</th>\n",
       "      <th>f_05</th>\n",
       "      <th>f_06</th>\n",
       "      <th>f_07</th>\n",
       "      <th>f_08</th>\n",
       "      <th>f_09</th>\n",
       "      <th>...</th>\n",
       "      <th>ch1</th>\n",
       "      <th>ch2</th>\n",
       "      <th>ch3</th>\n",
       "      <th>ch4</th>\n",
       "      <th>ch5</th>\n",
       "      <th>ch6</th>\n",
       "      <th>ch7</th>\n",
       "      <th>ch8</th>\n",
       "      <th>ch9</th>\n",
       "      <th>unique_characters</th>\n",
       "    </tr>\n",
       "  </thead>\n",
       "  <tbody>\n",
       "    <tr>\n",
       "      <th>0</th>\n",
       "      <td>0.442517</td>\n",
       "      <td>0.174380</td>\n",
       "      <td>-0.999816</td>\n",
       "      <td>0.762741</td>\n",
       "      <td>0.186778</td>\n",
       "      <td>-1.074775</td>\n",
       "      <td>0.501888</td>\n",
       "      <td>6</td>\n",
       "      <td>6</td>\n",
       "      <td>0</td>\n",
       "      <td>...</td>\n",
       "      <td>0</td>\n",
       "      <td>0</td>\n",
       "      <td>0</td>\n",
       "      <td>1</td>\n",
       "      <td>0</td>\n",
       "      <td>3</td>\n",
       "      <td>11</td>\n",
       "      <td>0</td>\n",
       "      <td>2</td>\n",
       "      <td>5</td>\n",
       "    </tr>\n",
       "    <tr>\n",
       "      <th>1</th>\n",
       "      <td>-0.605598</td>\n",
       "      <td>-0.305715</td>\n",
       "      <td>0.627667</td>\n",
       "      <td>-0.578898</td>\n",
       "      <td>-1.750931</td>\n",
       "      <td>1.355550</td>\n",
       "      <td>-0.190911</td>\n",
       "      <td>1</td>\n",
       "      <td>3</td>\n",
       "      <td>4</td>\n",
       "      <td>...</td>\n",
       "      <td>5</td>\n",
       "      <td>0</td>\n",
       "      <td>1</td>\n",
       "      <td>1</td>\n",
       "      <td>0</td>\n",
       "      <td>4</td>\n",
       "      <td>6</td>\n",
       "      <td>2</td>\n",
       "      <td>1</td>\n",
       "      <td>6</td>\n",
       "    </tr>\n",
       "  </tbody>\n",
       "</table>\n",
       "<p>2 rows × 41 columns</p>\n",
       "</div>"
      ],
      "text/plain": [
       "       f_00      f_01      f_02      f_03      f_04      f_05      f_06  f_07  \\\n",
       "0  0.442517  0.174380 -0.999816  0.762741  0.186778 -1.074775  0.501888     6   \n",
       "1 -0.605598 -0.305715  0.627667 -0.578898 -1.750931  1.355550 -0.190911     1   \n",
       "\n",
       "   f_08  f_09  ...  ch1  ch2  ch3  ch4  ch5  ch6  ch7  ch8  ch9  \\\n",
       "0     6     0  ...    0    0    0    1    0    3   11    0    2   \n",
       "1     3     4  ...    5    0    1    1    0    4    6    2    1   \n",
       "\n",
       "   unique_characters  \n",
       "0                  5  \n",
       "1                  6  \n",
       "\n",
       "[2 rows x 41 columns]"
      ]
     },
     "execution_count": 9,
     "metadata": {},
     "output_type": "execute_result"
    }
   ],
   "source": [
    "for df in [train, test]:\n",
    "    for i in range(10):\n",
    "        df[f'ch{i}'] = df.f_27.str.get(i).apply(ord) - ord('A')\n",
    "    # Next feature is from https://www.kaggle.com/code/cabaxiom/tps-may-22-eda-lgbm-model\n",
    "    df[\"unique_characters\"] = df.f_27.apply(lambda s: len(set(s)))\n",
    "features = [f for f in test.columns if f != 'id' and f != 'f_27']\n",
    "test[features].head(2)"
   ]
  },
  {
   "cell_type": "markdown",
   "id": "488bd4f1",
   "metadata": {
    "papermill": {
     "duration": 0.038676,
     "end_time": "2022-05-01T20:48:22.563133",
     "exception": false,
     "start_time": "2022-05-01T20:48:22.524457",
     "status": "completed"
    },
    "tags": []
   },
   "source": [
    "# Modeling"
   ]
  },
  {
   "cell_type": "markdown",
   "id": "425bb227",
   "metadata": {
    "papermill": {
     "duration": 0.037989,
     "end_time": "2022-05-01T20:48:22.639469",
     "exception": false,
     "start_time": "2022-05-01T20:48:22.601480",
     "status": "completed"
    },
    "tags": []
   },
   "source": [
    "### Installing EvalML"
   ]
  },
  {
   "cell_type": "code",
   "execution_count": 10,
   "id": "52b348ee",
   "metadata": {
    "_kg_hide-output": true,
    "execution": {
     "iopub.execute_input": "2022-05-01T20:48:22.717772Z",
     "iopub.status.busy": "2022-05-01T20:48:22.717190Z",
     "iopub.status.idle": "2022-05-01T20:49:40.096668Z",
     "shell.execute_reply": "2022-05-01T20:49:40.095296Z"
    },
    "papermill": {
     "duration": 77.422071,
     "end_time": "2022-05-01T20:49:40.099725",
     "exception": false,
     "start_time": "2022-05-01T20:48:22.677654",
     "status": "completed"
    },
    "tags": []
   },
   "outputs": [
    {
     "name": "stdout",
     "output_type": "stream",
     "text": [
      "\u001b[31mERROR: pip's dependency resolver does not currently take into account all the packages that are installed. This behaviour is the source of the following dependency conflicts.\r\n",
      "beatrix-jupyterlab 3.1.7 requires google-cloud-bigquery-storage, which is not installed.\r\n",
      "tfx-bsl 1.7.0 requires pyarrow<6,>=1, but you have pyarrow 7.0.0 which is incompatible.\r\n",
      "tfx-bsl 1.7.0 requires tensorflow!=2.0.*,!=2.1.*,!=2.2.*,!=2.3.*,!=2.4.*,!=2.5.*,!=2.6.*,!=2.7.*,<3,>=1.15.5, but you have tensorflow 2.6.3 which is incompatible.\r\n",
      "tensorflow-transform 1.7.0 requires pyarrow<6,>=1, but you have pyarrow 7.0.0 which is incompatible.\r\n",
      "tensorflow-transform 1.7.0 requires tensorflow!=2.0.*,!=2.1.*,!=2.2.*,!=2.3.*,!=2.4.*,!=2.5.*,!=2.6.*,!=2.7.*,<2.9,>=1.15.5, but you have tensorflow 2.6.3 which is incompatible.\r\n",
      "preprocessing 0.1.13 requires nltk==3.2.4, but you have nltk 3.7 which is incompatible.\r\n",
      "pdpbox 0.2.1 requires matplotlib==3.1.1, but you have matplotlib 3.5.1 which is incompatible.\r\n",
      "mxnet 1.9.0 requires graphviz<0.9.0,>=0.8.1, but you have graphviz 0.20 which is incompatible.\r\n",
      "ibis-framework 2.1.1 requires pandas<2,>=1.2.5, but you have pandas 1.2.4 which is incompatible.\u001b[0m\u001b[31m\r\n",
      "\u001b[0m\u001b[33mWARNING: Running pip as the 'root' user can result in broken permissions and conflicting behaviour with the system package manager. It is recommended to use a virtual environment instead: https://pip.pypa.io/warnings/venv\u001b[0m\u001b[33m\r\n",
      "\u001b[0m"
     ]
    }
   ],
   "source": [
    "!python3 -m pip install -q evalml==0.28.0"
   ]
  },
  {
   "cell_type": "code",
   "execution_count": 11,
   "id": "cdf4a79e",
   "metadata": {
    "execution": {
     "iopub.execute_input": "2022-05-01T20:49:40.181702Z",
     "iopub.status.busy": "2022-05-01T20:49:40.180497Z",
     "iopub.status.idle": "2022-05-01T20:49:43.463994Z",
     "shell.execute_reply": "2022-05-01T20:49:43.462759Z"
    },
    "papermill": {
     "duration": 3.327209,
     "end_time": "2022-05-01T20:49:43.466707",
     "exception": false,
     "start_time": "2022-05-01T20:49:40.139498",
     "status": "completed"
    },
    "tags": []
   },
   "outputs": [],
   "source": [
    "from evalml.automl import AutoMLSearch"
   ]
  },
  {
   "cell_type": "markdown",
   "id": "c8362d0f",
   "metadata": {
    "papermill": {
     "duration": 0.038597,
     "end_time": "2022-05-01T20:49:43.544117",
     "exception": false,
     "start_time": "2022-05-01T20:49:43.505520",
     "status": "completed"
    },
    "tags": []
   },
   "source": [
    "### Split Data"
   ]
  },
  {
   "cell_type": "code",
   "execution_count": 12,
   "id": "06daac04",
   "metadata": {
    "execution": {
     "iopub.execute_input": "2022-05-01T20:49:43.623621Z",
     "iopub.status.busy": "2022-05-01T20:49:43.622982Z",
     "iopub.status.idle": "2022-05-01T20:49:44.218729Z",
     "shell.execute_reply": "2022-05-01T20:49:44.217788Z"
    },
    "papermill": {
     "duration": 0.638329,
     "end_time": "2022-05-01T20:49:44.220891",
     "exception": false,
     "start_time": "2022-05-01T20:49:43.582562",
     "status": "completed"
    },
    "tags": []
   },
   "outputs": [
    {
     "data": {
      "text/plain": [
       "((900000, 41), (700000, 41))"
      ]
     },
     "execution_count": 12,
     "metadata": {},
     "output_type": "execute_result"
    }
   ],
   "source": [
    "y = train[\"target\"]\n",
    "X = train.drop(columns=[\"id\",\"f_27\", \"target\"])\n",
    "\n",
    "test = test.drop(columns=[\"id\",\"f_27\"])\n",
    "\n",
    "X.shape, test.shape"
   ]
  },
  {
   "cell_type": "code",
   "execution_count": 13,
   "id": "8e1c1a3b",
   "metadata": {
    "execution": {
     "iopub.execute_input": "2022-05-01T20:49:44.313077Z",
     "iopub.status.busy": "2022-05-01T20:49:44.312218Z",
     "iopub.status.idle": "2022-05-01T20:49:45.078158Z",
     "shell.execute_reply": "2022-05-01T20:49:45.077440Z"
    },
    "papermill": {
     "duration": 0.81748,
     "end_time": "2022-05-01T20:49:45.080446",
     "exception": false,
     "start_time": "2022-05-01T20:49:44.262966",
     "status": "completed"
    },
    "tags": []
   },
   "outputs": [],
   "source": [
    "from sklearn.model_selection import train_test_split\n",
    "_, X_test, _, y_test = train_test_split(X, y, test_size=0.2, random_state=42)"
   ]
  },
  {
   "cell_type": "markdown",
   "id": "c28c4794",
   "metadata": {
    "papermill": {
     "duration": 0.03897,
     "end_time": "2022-05-01T20:49:45.159047",
     "exception": false,
     "start_time": "2022-05-01T20:49:45.120077",
     "status": "completed"
    },
    "tags": []
   },
   "source": [
    "### Training Model"
   ]
  },
  {
   "cell_type": "code",
   "execution_count": 14,
   "id": "524249f8",
   "metadata": {
    "_kg_hide-output": true,
    "collapsed": true,
    "execution": {
     "iopub.execute_input": "2022-05-01T20:49:45.239448Z",
     "iopub.status.busy": "2022-05-01T20:49:45.238716Z",
     "iopub.status.idle": "2022-05-01T22:50:33.986209Z",
     "shell.execute_reply": "2022-05-01T22:50:33.984790Z"
    },
    "jupyter": {
     "outputs_hidden": true
    },
    "papermill": {
     "duration": 7248.913451,
     "end_time": "2022-05-01T22:50:34.111453",
     "exception": false,
     "start_time": "2022-05-01T20:49:45.198002",
     "status": "completed"
    },
    "tags": []
   },
   "outputs": [
    {
     "name": "stdout",
     "output_type": "stream",
     "text": [
      "Generating pipelines to search over...\n"
     ]
    },
    {
     "data": {
      "text/html": [
       "<style type='text/css'>\n",
       ".datatable table.frame { margin-bottom: 0; }\n",
       ".datatable table.frame thead { border-bottom: none; }\n",
       ".datatable table.frame tr.coltypes td {  color: #FFFFFF;  line-height: 6px;  padding: 0 0.5em;}\n",
       ".datatable .bool    { background: #DDDD99; }\n",
       ".datatable .object  { background: #565656; }\n",
       ".datatable .int     { background: #5D9E5D; }\n",
       ".datatable .float   { background: #4040CC; }\n",
       ".datatable .str     { background: #CC4040; }\n",
       ".datatable .time    { background: #40CC40; }\n",
       ".datatable .row_index {  background: var(--jp-border-color3);  border-right: 1px solid var(--jp-border-color0);  color: var(--jp-ui-font-color3);  font-size: 9px;}\n",
       ".datatable .frame tbody td { text-align: left; }\n",
       ".datatable .frame tr.coltypes .row_index {  background: var(--jp-border-color0);}\n",
       ".datatable th:nth-child(2) { padding-left: 12px; }\n",
       ".datatable .hellipsis {  color: var(--jp-cell-editor-border-color);}\n",
       ".datatable .vellipsis {  background: var(--jp-layout-color0);  color: var(--jp-cell-editor-border-color);}\n",
       ".datatable .na {  color: var(--jp-cell-editor-border-color);  font-size: 80%;}\n",
       ".datatable .sp {  opacity: 0.25;}\n",
       ".datatable .footer { font-size: 9px; }\n",
       ".datatable .frame_dimensions {  background: var(--jp-border-color3);  border-top: 1px solid var(--jp-border-color0);  color: var(--jp-ui-font-color3);  display: inline-block;  opacity: 0.6;  padding: 1px 10px 1px 5px;}\n",
       "</style>\n"
      ],
      "text/plain": [
       "<IPython.core.display.HTML object>"
      ]
     },
     "metadata": {},
     "output_type": "display_data"
    },
    {
     "name": "stdout",
     "output_type": "stream",
     "text": [
      "8 pipelines ready for search.\n",
      "\n",
      "*****************************\n",
      "* Beginning pipeline search *\n",
      "*****************************\n",
      "\n",
      "Optimizing for Log Loss Binary. \n",
      "Lower score is better.\n",
      "\n",
      "Using SequentialEngine to train and score pipelines.\n",
      "Will stop searching for new pipelines after 3600 seconds.\n",
      "\n",
      "Allowed model families: random_forest, decision_tree, xgboost, linear_model, catboost, extra_trees, lightgbm\n",
      "\n"
     ]
    },
    {
     "data": {
      "application/vnd.jupyter.widget-view+json": {
       "model_id": "cc063c3a620b4467876dc6038f3c3a26",
       "version_major": 2,
       "version_minor": 0
      },
      "text/plain": [
       "FigureWidget({\n",
       "    'data': [{'mode': 'lines+markers',\n",
       "              'name': 'Best Score',\n",
       "              'type'…"
      ]
     },
     "metadata": {},
     "output_type": "display_data"
    },
    {
     "name": "stdout",
     "output_type": "stream",
     "text": [
      "Evaluating Baseline Pipeline: Mode Baseline Binary Classification Pipeline\n",
      "Mode Baseline Binary Classification Pipeline:\n",
      "\tStarting cross validation\n",
      "\tFinished cross validation - mean Log Loss Binary: 16.802\n",
      "\n",
      "*****************************\n",
      "* Evaluating Batch Number 1 *\n",
      "*****************************\n",
      "\n",
      "Elastic Net Classifier w/ Imputer + Standard Scaler:\n",
      "\tStarting cross validation\n",
      "\tFinished cross validation - mean Log Loss Binary: 0.587\n",
      "Decision Tree Classifier w/ Imputer:\n",
      "\tStarting cross validation\n",
      "\tFinished cross validation - mean Log Loss Binary: 0.640\n",
      "Random Forest Classifier w/ Imputer:\n",
      "\tStarting cross validation\n",
      "\tFinished cross validation - mean Log Loss Binary: 0.606\n",
      "LightGBM Classifier w/ Imputer:\n",
      "\tStarting cross validation\n",
      "\tFinished cross validation - mean Log Loss Binary: 0.318\n",
      "Logistic Regression Classifier w/ Imputer + Standard Scaler:\n",
      "\tStarting cross validation\n",
      "\tFinished cross validation - mean Log Loss Binary: 0.587\n",
      "XGBoost Classifier w/ Imputer:\n",
      "\tStarting cross validation\n",
      "\tFinished cross validation - mean Log Loss Binary: 0.337\n",
      "Extra Trees Classifier w/ Imputer:\n",
      "\tStarting cross validation\n",
      "\tFinished cross validation - mean Log Loss Binary: 0.636\n",
      "CatBoost Classifier w/ Imputer:\n",
      "\tStarting cross validation\n",
      "\tFinished cross validation - mean Log Loss Binary: 0.662\n",
      "\n",
      "*****************************\n",
      "* Evaluating Batch Number 2 *\n",
      "*****************************\n",
      "\n",
      "LightGBM Classifier w/ Imputer:\n",
      "\tStarting cross validation\n",
      "\tFinished cross validation - mean Log Loss Binary: 0.636\n",
      "LightGBM Classifier w/ Imputer:\n",
      "\tStarting cross validation\n",
      "\tFinished cross validation - mean Log Loss Binary: 0.654\n",
      "LightGBM Classifier w/ Imputer:\n",
      "\tStarting cross validation\n",
      "\tFinished cross validation - mean Log Loss Binary: 0.600\n",
      "LightGBM Classifier w/ Imputer:\n",
      "\tStarting cross validation\n",
      "\tFinished cross validation - mean Log Loss Binary: 0.275\n",
      "LightGBM Classifier w/ Imputer:\n",
      "\tStarting cross validation\n",
      "\tFinished cross validation - mean Log Loss Binary: 0.272\n",
      "\n",
      "*****************************\n",
      "* Evaluating Batch Number 3 *\n",
      "*****************************\n",
      "\n",
      "XGBoost Classifier w/ Imputer:\n",
      "\tStarting cross validation\n",
      "\tFinished cross validation - mean Log Loss Binary: 0.245\n",
      "XGBoost Classifier w/ Imputer:\n",
      "\tStarting cross validation\n",
      "\tFinished cross validation - mean Log Loss Binary: 0.235\n",
      "XGBoost Classifier w/ Imputer:\n",
      "\tStarting cross validation\n",
      "\tFinished cross validation - mean Log Loss Binary: 0.213\n",
      "XGBoost Classifier w/ Imputer:\n",
      "\tStarting cross validation\n",
      "\tFinished cross validation - mean Log Loss Binary: 0.531\n",
      "XGBoost Classifier w/ Imputer:\n",
      "\tStarting cross validation\n",
      "\tFinished cross validation - mean Log Loss Binary: 0.604\n",
      "\n",
      "*****************************\n",
      "* Evaluating Batch Number 4 *\n",
      "*****************************\n",
      "\n",
      "Elastic Net Classifier w/ Imputer + Standard Scaler:\n",
      "\tStarting cross validation\n",
      "\tFinished cross validation - mean Log Loss Binary: 0.587\n",
      "Elastic Net Classifier w/ Imputer + Standard Scaler:\n",
      "\tStarting cross validation\n",
      "\tFinished cross validation - mean Log Loss Binary: 0.587\n",
      "Elastic Net Classifier w/ Imputer + Standard Scaler:\n",
      "\tStarting cross validation\n",
      "\tFinished cross validation - mean Log Loss Binary: 0.587\n",
      "Elastic Net Classifier w/ Imputer + Standard Scaler:\n",
      "\tStarting cross validation\n",
      "\tFinished cross validation - mean Log Loss Binary: 0.587\n",
      "Elastic Net Classifier w/ Imputer + Standard Scaler:\n",
      "\tStarting cross validation\n",
      "\tFinished cross validation - mean Log Loss Binary: 0.587\n",
      "\n",
      "*****************************\n",
      "* Evaluating Batch Number 5 *\n",
      "*****************************\n",
      "\n",
      "Logistic Regression Classifier w/ Imputer + Standard Scaler:\n",
      "\tStarting cross validation\n",
      "\tFinished cross validation - mean Log Loss Binary: 0.587\n",
      "Logistic Regression Classifier w/ Imputer + Standard Scaler:\n",
      "\tStarting cross validation\n",
      "\tFinished cross validation - mean Log Loss Binary: 0.587\n",
      "Logistic Regression Classifier w/ Imputer + Standard Scaler:\n",
      "\tStarting cross validation\n",
      "\tFinished cross validation - mean Log Loss Binary: 0.587\n",
      "Logistic Regression Classifier w/ Imputer + Standard Scaler:\n",
      "\tStarting cross validation\n",
      "\tFinished cross validation - mean Log Loss Binary: 0.587\n",
      "Logistic Regression Classifier w/ Imputer + Standard Scaler:\n",
      "\tStarting cross validation\n",
      "\tFinished cross validation - mean Log Loss Binary: 0.587\n",
      "\n",
      "*****************************\n",
      "* Evaluating Batch Number 6 *\n",
      "*****************************\n",
      "\n",
      "Random Forest Classifier w/ Imputer:\n",
      "\tStarting cross validation\n",
      "\tFinished cross validation - mean Log Loss Binary: 0.639\n",
      "Random Forest Classifier w/ Imputer:\n",
      "\tStarting cross validation\n",
      "\tFinished cross validation - mean Log Loss Binary: 0.669\n",
      "Random Forest Classifier w/ Imputer:\n",
      "\tStarting cross validation\n",
      "\tFinished cross validation - mean Log Loss Binary: 0.623\n",
      "Random Forest Classifier w/ Imputer:\n",
      "\tStarting cross validation\n",
      "\tFinished cross validation - mean Log Loss Binary: 0.669\n",
      "Random Forest Classifier w/ Imputer:\n",
      "\tStarting cross validation\n",
      "\tFinished cross validation - mean Log Loss Binary: 0.623\n",
      "\n",
      "*****************************\n",
      "* Evaluating Batch Number 7 *\n",
      "*****************************\n",
      "\n",
      "Extra Trees Classifier w/ Imputer:\n",
      "\tStarting cross validation\n",
      "\tFinished cross validation - mean Log Loss Binary: 0.648\n",
      "Extra Trees Classifier w/ Imputer:\n",
      "\tStarting cross validation\n",
      "\tFinished cross validation - mean Log Loss Binary: 0.660\n",
      "Extra Trees Classifier w/ Imputer:\n",
      "\tStarting cross validation\n",
      "\tFinished cross validation - mean Log Loss Binary: 0.643\n",
      "Extra Trees Classifier w/ Imputer:\n",
      "\tStarting cross validation\n",
      "\tFinished cross validation - mean Log Loss Binary: 0.625\n",
      "Extra Trees Classifier w/ Imputer:\n",
      "\tStarting cross validation\n",
      "\tFinished cross validation - mean Log Loss Binary: 0.663\n",
      "\n",
      "*****************************\n",
      "* Evaluating Batch Number 8 *\n",
      "*****************************\n",
      "\n",
      "Decision Tree Classifier w/ Imputer:\n",
      "\tStarting cross validation\n",
      "\tFinished cross validation - mean Log Loss Binary: 0.644\n",
      "Decision Tree Classifier w/ Imputer:\n",
      "\tStarting cross validation\n",
      "\tFinished cross validation - mean Log Loss Binary: 0.646\n",
      "Decision Tree Classifier w/ Imputer:\n",
      "\tStarting cross validation\n",
      "\tFinished cross validation - mean Log Loss Binary: 0.649\n",
      "Decision Tree Classifier w/ Imputer:\n",
      "\tStarting cross validation\n",
      "\tFinished cross validation - mean Log Loss Binary: 0.689\n",
      "Decision Tree Classifier w/ Imputer:\n",
      "\tStarting cross validation\n",
      "\tFinished cross validation - mean Log Loss Binary: 0.647\n",
      "\n",
      "*****************************\n",
      "* Evaluating Batch Number 9 *\n",
      "*****************************\n",
      "\n",
      "CatBoost Classifier w/ Imputer:\n",
      "\tStarting cross validation\n",
      "\tFinished cross validation - mean Log Loss Binary: 0.229\n",
      "CatBoost Classifier w/ Imputer:\n",
      "\tStarting cross validation\n",
      "\tFinished cross validation - mean Log Loss Binary: 0.267\n",
      "CatBoost Classifier w/ Imputer:\n",
      "\tStarting cross validation\n",
      "\tFinished cross validation - mean Log Loss Binary: 0.242\n",
      "CatBoost Classifier w/ Imputer:\n",
      "\tStarting cross validation\n",
      "\tFinished cross validation - mean Log Loss Binary: 0.469\n",
      "CatBoost Classifier w/ Imputer:\n",
      "\tStarting cross validation\n",
      "\tFinished cross validation - mean Log Loss Binary: 0.424\n",
      "\n",
      "******************************\n",
      "* Evaluating Batch Number 10 *\n",
      "******************************\n",
      "\n",
      "LightGBM Classifier w/ Imputer:\n",
      "\tStarting cross validation\n",
      "\tFinished cross validation - mean Log Loss Binary: 0.304\n",
      "LightGBM Classifier w/ Imputer:\n",
      "\tStarting cross validation\n",
      "\tFinished cross validation - mean Log Loss Binary: 0.288\n",
      "LightGBM Classifier w/ Imputer:\n",
      "\tStarting cross validation\n",
      "\tFinished cross validation - mean Log Loss Binary: 0.609\n",
      "LightGBM Classifier w/ Imputer:\n",
      "\tStarting cross validation\n",
      "\tFinished cross validation - mean Log Loss Binary: 0.677\n",
      "LightGBM Classifier w/ Imputer:\n",
      "\tStarting cross validation\n",
      "\tFinished cross validation - mean Log Loss Binary: 0.299\n",
      "\n",
      "******************************\n",
      "* Evaluating Batch Number 11 *\n",
      "******************************\n",
      "\n",
      "XGBoost Classifier w/ Imputer:\n",
      "\tStarting cross validation\n",
      "\tFinished cross validation - mean Log Loss Binary: 0.175\n",
      "XGBoost Classifier w/ Imputer:\n",
      "\tStarting cross validation\n",
      "\tFinished cross validation - mean Log Loss Binary: 0.293\n",
      "\n",
      "Search finished after 1:13:47          \n",
      "Best pipeline: XGBoost Classifier w/ Imputer\n",
      "Best pipeline Log Loss Binary: 0.175443\n"
     ]
    }
   ],
   "source": [
    "## run model\n",
    "model_evalml = AutoMLSearch(X_train=X, y_train=y, problem_type='binary', max_time=3600)\n",
    "model_evalml.search()"
   ]
  },
  {
   "cell_type": "code",
   "execution_count": 15,
   "id": "2b7455e5",
   "metadata": {
    "execution": {
     "iopub.execute_input": "2022-05-01T22:50:34.363281Z",
     "iopub.status.busy": "2022-05-01T22:50:34.362252Z",
     "iopub.status.idle": "2022-05-01T22:50:34.396217Z",
     "shell.execute_reply": "2022-05-01T22:50:34.395145Z"
    },
    "papermill": {
     "duration": 0.163421,
     "end_time": "2022-05-01T22:50:34.398272",
     "exception": false,
     "start_time": "2022-05-01T22:50:34.234851",
     "status": "completed"
    },
    "tags": []
   },
   "outputs": [
    {
     "data": {
      "text/html": [
       "<div>\n",
       "<style scoped>\n",
       "    .dataframe tbody tr th:only-of-type {\n",
       "        vertical-align: middle;\n",
       "    }\n",
       "\n",
       "    .dataframe tbody tr th {\n",
       "        vertical-align: top;\n",
       "    }\n",
       "\n",
       "    .dataframe thead th {\n",
       "        text-align: right;\n",
       "    }\n",
       "</style>\n",
       "<table border=\"1\" class=\"dataframe\">\n",
       "  <thead>\n",
       "    <tr style=\"text-align: right;\">\n",
       "      <th></th>\n",
       "      <th>id</th>\n",
       "      <th>pipeline_name</th>\n",
       "      <th>search_order</th>\n",
       "      <th>mean_cv_score</th>\n",
       "      <th>standard_deviation_cv_score</th>\n",
       "      <th>validation_score</th>\n",
       "      <th>percent_better_than_baseline</th>\n",
       "      <th>high_variance_cv</th>\n",
       "      <th>parameters</th>\n",
       "    </tr>\n",
       "  </thead>\n",
       "  <tbody>\n",
       "    <tr>\n",
       "      <th>0</th>\n",
       "      <td>54</td>\n",
       "      <td>XGBoost Classifier w/ Imputer</td>\n",
       "      <td>54</td>\n",
       "      <td>0.175443</td>\n",
       "      <td>NaN</td>\n",
       "      <td>0.175443</td>\n",
       "      <td>98.955846</td>\n",
       "      <td>False</td>\n",
       "      <td>{'Imputer': {'categorical_impute_strategy': 'm...</td>\n",
       "    </tr>\n",
       "    <tr>\n",
       "      <th>2</th>\n",
       "      <td>44</td>\n",
       "      <td>CatBoost Classifier w/ Imputer</td>\n",
       "      <td>44</td>\n",
       "      <td>0.228950</td>\n",
       "      <td>NaN</td>\n",
       "      <td>0.228950</td>\n",
       "      <td>98.637397</td>\n",
       "      <td>False</td>\n",
       "      <td>{'Imputer': {'categorical_impute_strategy': 'm...</td>\n",
       "    </tr>\n",
       "    <tr>\n",
       "      <th>7</th>\n",
       "      <td>13</td>\n",
       "      <td>LightGBM Classifier w/ Imputer</td>\n",
       "      <td>13</td>\n",
       "      <td>0.272268</td>\n",
       "      <td>NaN</td>\n",
       "      <td>0.272268</td>\n",
       "      <td>98.379587</td>\n",
       "      <td>False</td>\n",
       "      <td>{'Imputer': {'categorical_impute_strategy': 'm...</td>\n",
       "    </tr>\n",
       "    <tr>\n",
       "      <th>18</th>\n",
       "      <td>21</td>\n",
       "      <td>Elastic Net Classifier w/ Imputer + Standard S...</td>\n",
       "      <td>21</td>\n",
       "      <td>0.587180</td>\n",
       "      <td>NaN</td>\n",
       "      <td>0.587180</td>\n",
       "      <td>96.505376</td>\n",
       "      <td>False</td>\n",
       "      <td>{'Imputer': {'categorical_impute_strategy': 'm...</td>\n",
       "    </tr>\n",
       "    <tr>\n",
       "      <th>22</th>\n",
       "      <td>26</td>\n",
       "      <td>Logistic Regression Classifier w/ Imputer + St...</td>\n",
       "      <td>26</td>\n",
       "      <td>0.587180</td>\n",
       "      <td>NaN</td>\n",
       "      <td>0.587180</td>\n",
       "      <td>96.505375</td>\n",
       "      <td>False</td>\n",
       "      <td>{'Imputer': {'categorical_impute_strategy': 'm...</td>\n",
       "    </tr>\n",
       "    <tr>\n",
       "      <th>32</th>\n",
       "      <td>3</td>\n",
       "      <td>Random Forest Classifier w/ Imputer</td>\n",
       "      <td>3</td>\n",
       "      <td>0.605539</td>\n",
       "      <td>NaN</td>\n",
       "      <td>0.605539</td>\n",
       "      <td>96.396113</td>\n",
       "      <td>False</td>\n",
       "      <td>{'Imputer': {'categorical_impute_strategy': 'm...</td>\n",
       "    </tr>\n",
       "    <tr>\n",
       "      <th>36</th>\n",
       "      <td>37</td>\n",
       "      <td>Extra Trees Classifier w/ Imputer</td>\n",
       "      <td>37</td>\n",
       "      <td>0.624855</td>\n",
       "      <td>NaN</td>\n",
       "      <td>0.624855</td>\n",
       "      <td>96.281153</td>\n",
       "      <td>False</td>\n",
       "      <td>{'Imputer': {'categorical_impute_strategy': 'm...</td>\n",
       "    </tr>\n",
       "    <tr>\n",
       "      <th>40</th>\n",
       "      <td>2</td>\n",
       "      <td>Decision Tree Classifier w/ Imputer</td>\n",
       "      <td>2</td>\n",
       "      <td>0.640156</td>\n",
       "      <td>NaN</td>\n",
       "      <td>0.640156</td>\n",
       "      <td>96.190086</td>\n",
       "      <td>False</td>\n",
       "      <td>{'Imputer': {'categorical_impute_strategy': 'm...</td>\n",
       "    </tr>\n",
       "    <tr>\n",
       "      <th>55</th>\n",
       "      <td>0</td>\n",
       "      <td>Mode Baseline Binary Classification Pipeline</td>\n",
       "      <td>0</td>\n",
       "      <td>16.802373</td>\n",
       "      <td>NaN</td>\n",
       "      <td>16.802373</td>\n",
       "      <td>0.000000</td>\n",
       "      <td>False</td>\n",
       "      <td>{'Baseline Classifier': {'strategy': 'mode'}}</td>\n",
       "    </tr>\n",
       "  </tbody>\n",
       "</table>\n",
       "</div>"
      ],
      "text/plain": [
       "    id                                      pipeline_name  search_order  \\\n",
       "0   54                      XGBoost Classifier w/ Imputer            54   \n",
       "2   44                     CatBoost Classifier w/ Imputer            44   \n",
       "7   13                     LightGBM Classifier w/ Imputer            13   \n",
       "18  21  Elastic Net Classifier w/ Imputer + Standard S...            21   \n",
       "22  26  Logistic Regression Classifier w/ Imputer + St...            26   \n",
       "32   3                Random Forest Classifier w/ Imputer             3   \n",
       "36  37                  Extra Trees Classifier w/ Imputer            37   \n",
       "40   2                Decision Tree Classifier w/ Imputer             2   \n",
       "55   0       Mode Baseline Binary Classification Pipeline             0   \n",
       "\n",
       "    mean_cv_score  standard_deviation_cv_score  validation_score  \\\n",
       "0        0.175443                          NaN          0.175443   \n",
       "2        0.228950                          NaN          0.228950   \n",
       "7        0.272268                          NaN          0.272268   \n",
       "18       0.587180                          NaN          0.587180   \n",
       "22       0.587180                          NaN          0.587180   \n",
       "32       0.605539                          NaN          0.605539   \n",
       "36       0.624855                          NaN          0.624855   \n",
       "40       0.640156                          NaN          0.640156   \n",
       "55      16.802373                          NaN         16.802373   \n",
       "\n",
       "    percent_better_than_baseline  high_variance_cv  \\\n",
       "0                      98.955846             False   \n",
       "2                      98.637397             False   \n",
       "7                      98.379587             False   \n",
       "18                     96.505376             False   \n",
       "22                     96.505375             False   \n",
       "32                     96.396113             False   \n",
       "36                     96.281153             False   \n",
       "40                     96.190086             False   \n",
       "55                      0.000000             False   \n",
       "\n",
       "                                           parameters  \n",
       "0   {'Imputer': {'categorical_impute_strategy': 'm...  \n",
       "2   {'Imputer': {'categorical_impute_strategy': 'm...  \n",
       "7   {'Imputer': {'categorical_impute_strategy': 'm...  \n",
       "18  {'Imputer': {'categorical_impute_strategy': 'm...  \n",
       "22  {'Imputer': {'categorical_impute_strategy': 'm...  \n",
       "32  {'Imputer': {'categorical_impute_strategy': 'm...  \n",
       "36  {'Imputer': {'categorical_impute_strategy': 'm...  \n",
       "40  {'Imputer': {'categorical_impute_strategy': 'm...  \n",
       "55      {'Baseline Classifier': {'strategy': 'mode'}}  "
      ]
     },
     "execution_count": 15,
     "metadata": {},
     "output_type": "execute_result"
    }
   ],
   "source": [
    "## check leaderboard\n",
    "model_evalml.rankings"
   ]
  },
  {
   "cell_type": "code",
   "execution_count": 16,
   "id": "6c4840b1",
   "metadata": {
    "execution": {
     "iopub.execute_input": "2022-05-01T22:50:34.644431Z",
     "iopub.status.busy": "2022-05-01T22:50:34.643790Z",
     "iopub.status.idle": "2022-05-01T22:50:44.586900Z",
     "shell.execute_reply": "2022-05-01T22:50:44.585802Z"
    },
    "papermill": {
     "duration": 10.06972,
     "end_time": "2022-05-01T22:50:44.590039",
     "exception": false,
     "start_time": "2022-05-01T22:50:34.520319",
     "status": "completed"
    },
    "tags": []
   },
   "outputs": [
    {
     "name": "stdout",
     "output_type": "stream",
     "text": [
      "MAE : 0.0950312\n",
      "MSE : 0.0333516\n",
      "Roc : 0.9933357\n"
     ]
    }
   ],
   "source": [
    "pred = model_evalml.best_pipeline.predict_proba(X_test)[True]\n",
    "\n",
    "mae = mean_absolute_error(y_test, pred)\n",
    "mse = mean_squared_error(y_test, pred)\n",
    "\n",
    "print(\"MAE : %.7f\" % mae)\n",
    "print(\"MSE : %.7f\" % mse)\n",
    "print(\"Roc : %.7f\" % roc_auc_score(y_test, pred))"
   ]
  },
  {
   "cell_type": "code",
   "execution_count": 17,
   "id": "7a3e3d23",
   "metadata": {
    "execution": {
     "iopub.execute_input": "2022-05-01T22:50:44.837262Z",
     "iopub.status.busy": "2022-05-01T22:50:44.836822Z",
     "iopub.status.idle": "2022-05-01T22:50:44.844787Z",
     "shell.execute_reply": "2022-05-01T22:50:44.843740Z"
    },
    "papermill": {
     "duration": 0.135285,
     "end_time": "2022-05-01T22:50:44.847022",
     "exception": false,
     "start_time": "2022-05-01T22:50:44.711737",
     "status": "completed"
    },
    "tags": []
   },
   "outputs": [
    {
     "data": {
      "text/plain": [
       "0         0.109090\n",
       "1         0.963090\n",
       "2         0.075195\n",
       "3         0.029337\n",
       "4         0.972238\n",
       "            ...   \n",
       "179995    0.020792\n",
       "179996    0.990287\n",
       "179997    0.982249\n",
       "179998    0.290683\n",
       "179999    0.993511\n",
       "Name: 1, Length: 180000, dtype: float64"
      ]
     },
     "execution_count": 17,
     "metadata": {},
     "output_type": "execute_result"
    }
   ],
   "source": [
    "pred"
   ]
  },
  {
   "cell_type": "markdown",
   "id": "8d3b65f3",
   "metadata": {
    "papermill": {
     "duration": 0.124544,
     "end_time": "2022-05-01T22:50:45.095509",
     "exception": false,
     "start_time": "2022-05-01T22:50:44.970965",
     "status": "completed"
    },
    "tags": []
   },
   "source": [
    "### Free Memory"
   ]
  },
  {
   "cell_type": "code",
   "execution_count": 18,
   "id": "b192acbb",
   "metadata": {
    "execution": {
     "iopub.execute_input": "2022-05-01T22:50:45.346245Z",
     "iopub.status.busy": "2022-05-01T22:50:45.345966Z",
     "iopub.status.idle": "2022-05-01T22:50:45.681325Z",
     "shell.execute_reply": "2022-05-01T22:50:45.680319Z"
    },
    "papermill": {
     "duration": 0.463825,
     "end_time": "2022-05-01T22:50:45.683428",
     "exception": false,
     "start_time": "2022-05-01T22:50:45.219603",
     "status": "completed"
    },
    "tags": []
   },
   "outputs": [
    {
     "data": {
      "text/plain": [
       "81"
      ]
     },
     "execution_count": 18,
     "metadata": {},
     "output_type": "execute_result"
    }
   ],
   "source": [
    "del train\n",
    "del X\n",
    "del y\n",
    "del X_test\n",
    "del y_test\n",
    "\n",
    "gc.collect()"
   ]
  },
  {
   "cell_type": "markdown",
   "id": "85cd5aee",
   "metadata": {
    "papermill": {
     "duration": 0.123687,
     "end_time": "2022-05-01T22:50:45.930874",
     "exception": false,
     "start_time": "2022-05-01T22:50:45.807187",
     "status": "completed"
    },
    "tags": []
   },
   "source": [
    "# Test"
   ]
  },
  {
   "cell_type": "code",
   "execution_count": 19,
   "id": "a585f708",
   "metadata": {
    "execution": {
     "iopub.execute_input": "2022-05-01T22:50:46.334618Z",
     "iopub.status.busy": "2022-05-01T22:50:46.334305Z",
     "iopub.status.idle": "2022-05-01T22:51:25.548472Z",
     "shell.execute_reply": "2022-05-01T22:51:25.547195Z"
    },
    "papermill": {
     "duration": 39.633055,
     "end_time": "2022-05-01T22:51:25.689900",
     "exception": false,
     "start_time": "2022-05-01T22:50:46.056845",
     "status": "completed"
    },
    "tags": []
   },
   "outputs": [
    {
     "data": {
      "text/plain": [
       "700000"
      ]
     },
     "execution_count": 19,
     "metadata": {},
     "output_type": "execute_result"
    }
   ],
   "source": [
    "## generate predictions\n",
    "y_predict = model_evalml.best_pipeline.predict_proba(test)[True]\n",
    "\n",
    "#pred = automl.predict(test)\n",
    "len(y_predict)"
   ]
  },
  {
   "cell_type": "code",
   "execution_count": 20,
   "id": "90f0aaf9",
   "metadata": {
    "execution": {
     "iopub.execute_input": "2022-05-01T22:51:25.940944Z",
     "iopub.status.busy": "2022-05-01T22:51:25.940668Z",
     "iopub.status.idle": "2022-05-01T22:51:25.948144Z",
     "shell.execute_reply": "2022-05-01T22:51:25.947480Z"
    },
    "papermill": {
     "duration": 0.136259,
     "end_time": "2022-05-01T22:51:25.950187",
     "exception": false,
     "start_time": "2022-05-01T22:51:25.813928",
     "status": "completed"
    },
    "tags": []
   },
   "outputs": [
    {
     "data": {
      "text/plain": [
       "0         0.957320\n",
       "1         0.989653\n",
       "2         0.000062\n",
       "3         0.022352\n",
       "4         0.976022\n",
       "            ...   \n",
       "699995    0.523001\n",
       "699996    0.992446\n",
       "699997    0.306104\n",
       "699998    0.010068\n",
       "699999    0.000011\n",
       "Name: 1, Length: 700000, dtype: float64"
      ]
     },
     "execution_count": 20,
     "metadata": {},
     "output_type": "execute_result"
    }
   ],
   "source": [
    "y_predict"
   ]
  },
  {
   "cell_type": "markdown",
   "id": "29e24c7c",
   "metadata": {
    "papermill": {
     "duration": 0.124382,
     "end_time": "2022-05-01T22:51:26.200218",
     "exception": false,
     "start_time": "2022-05-01T22:51:26.075836",
     "status": "completed"
    },
    "tags": []
   },
   "source": [
    "# Submission"
   ]
  },
  {
   "cell_type": "code",
   "execution_count": 21,
   "id": "56e47404",
   "metadata": {
    "execution": {
     "iopub.execute_input": "2022-05-01T22:51:26.452756Z",
     "iopub.status.busy": "2022-05-01T22:51:26.452314Z",
     "iopub.status.idle": "2022-05-01T22:51:26.841189Z",
     "shell.execute_reply": "2022-05-01T22:51:26.839971Z"
    },
    "papermill": {
     "duration": 0.519108,
     "end_time": "2022-05-01T22:51:26.843786",
     "exception": false,
     "start_time": "2022-05-01T22:51:26.324678",
     "status": "completed"
    },
    "tags": []
   },
   "outputs": [
    {
     "data": {
      "text/plain": [
       "(700000, 2)"
      ]
     },
     "execution_count": 21,
     "metadata": {},
     "output_type": "execute_result"
    }
   ],
   "source": [
    "submission = pd.read_csv(\"../input/tabular-playground-series-may-2022/sample_submission.csv\")\n",
    "submission.shape"
   ]
  },
  {
   "cell_type": "code",
   "execution_count": 22,
   "id": "47952081",
   "metadata": {
    "_kg_hide-output": true,
    "collapsed": true,
    "execution": {
     "iopub.execute_input": "2022-05-01T22:51:27.099258Z",
     "iopub.status.busy": "2022-05-01T22:51:27.098948Z",
     "iopub.status.idle": "2022-05-01T22:51:47.201049Z",
     "shell.execute_reply": "2022-05-01T22:51:47.199527Z"
    },
    "jupyter": {
     "outputs_hidden": true
    },
    "papermill": {
     "duration": 20.234302,
     "end_time": "2022-05-01T22:51:47.203929",
     "exception": false,
     "start_time": "2022-05-01T22:51:26.969627",
     "status": "completed"
    },
    "tags": []
   },
   "outputs": [
    {
     "name": "stdout",
     "output_type": "stream",
     "text": [
      "Requirement already satisfied: pandas in /opt/conda/lib/python3.7/site-packages (1.2.4)\r\n",
      "Collecting pandas\r\n",
      "  Downloading pandas-1.3.5-cp37-cp37m-manylinux_2_17_x86_64.manylinux2014_x86_64.whl (11.3 MB)\r\n",
      "\u001b[2K     \u001b[90m━━━━━━━━━━━━━━━━━━━━━━━━━━━━━━━━━━━━━━━━\u001b[0m \u001b[32m11.3/11.3 MB\u001b[0m \u001b[31m27.8 MB/s\u001b[0m eta \u001b[36m0:00:00\u001b[0m\r\n",
      "\u001b[?25hRequirement already satisfied: pytz>=2017.3 in /opt/conda/lib/python3.7/site-packages (from pandas) (2021.3)\r\n",
      "Requirement already satisfied: numpy>=1.17.3 in /opt/conda/lib/python3.7/site-packages (from pandas) (1.21.6)\r\n",
      "Requirement already satisfied: python-dateutil>=2.7.3 in /opt/conda/lib/python3.7/site-packages (from pandas) (2.8.2)\r\n",
      "Requirement already satisfied: six>=1.5 in /opt/conda/lib/python3.7/site-packages (from python-dateutil>=2.7.3->pandas) (1.16.0)\r\n",
      "Installing collected packages: pandas\r\n",
      "  Attempting uninstall: pandas\r\n",
      "    Found existing installation: pandas 1.2.4\r\n",
      "    Uninstalling pandas-1.2.4:\r\n",
      "      Successfully uninstalled pandas-1.2.4\r\n",
      "\u001b[31mERROR: pip's dependency resolver does not currently take into account all the packages that are installed. This behaviour is the source of the following dependency conflicts.\r\n",
      "beatrix-jupyterlab 3.1.7 requires google-cloud-bigquery-storage, which is not installed.\r\n",
      "woodwork 0.4.2 requires pandas<1.2.5,>=1.2.0, but you have pandas 1.3.5 which is incompatible.\r\n",
      "tfx-bsl 1.7.0 requires pyarrow<6,>=1, but you have pyarrow 7.0.0 which is incompatible.\r\n",
      "tfx-bsl 1.7.0 requires tensorflow!=2.0.*,!=2.1.*,!=2.2.*,!=2.3.*,!=2.4.*,!=2.5.*,!=2.6.*,!=2.7.*,<3,>=1.15.5, but you have tensorflow 2.6.3 which is incompatible.\r\n",
      "tensorflow-transform 1.7.0 requires pyarrow<6,>=1, but you have pyarrow 7.0.0 which is incompatible.\r\n",
      "tensorflow-transform 1.7.0 requires tensorflow!=2.0.*,!=2.1.*,!=2.2.*,!=2.3.*,!=2.4.*,!=2.5.*,!=2.6.*,!=2.7.*,<2.9,>=1.15.5, but you have tensorflow 2.6.3 which is incompatible.\r\n",
      "pdpbox 0.2.1 requires matplotlib==3.1.1, but you have matplotlib 3.5.1 which is incompatible.\u001b[0m\u001b[31m\r\n",
      "\u001b[0mSuccessfully installed pandas-1.3.5\r\n",
      "\u001b[33mWARNING: Running pip as the 'root' user can result in broken permissions and conflicting behaviour with the system package manager. It is recommended to use a virtual environment instead: https://pip.pypa.io/warnings/venv\u001b[0m\u001b[33m\r\n",
      "\u001b[0m"
     ]
    }
   ],
   "source": [
    "!pip install pandas -U\n",
    "import pandas as pd"
   ]
  },
  {
   "cell_type": "code",
   "execution_count": 23,
   "id": "2a540624",
   "metadata": {
    "execution": {
     "iopub.execute_input": "2022-05-01T22:51:47.474971Z",
     "iopub.status.busy": "2022-05-01T22:51:47.474652Z",
     "iopub.status.idle": "2022-05-01T22:51:49.944686Z",
     "shell.execute_reply": "2022-05-01T22:51:49.943715Z"
    },
    "papermill": {
     "duration": 2.608958,
     "end_time": "2022-05-01T22:51:49.946965",
     "exception": false,
     "start_time": "2022-05-01T22:51:47.338007",
     "status": "completed"
    },
    "tags": []
   },
   "outputs": [
    {
     "data": {
      "text/html": [
       "<div>\n",
       "<style scoped>\n",
       "    .dataframe tbody tr th:only-of-type {\n",
       "        vertical-align: middle;\n",
       "    }\n",
       "\n",
       "    .dataframe tbody tr th {\n",
       "        vertical-align: top;\n",
       "    }\n",
       "\n",
       "    .dataframe thead th {\n",
       "        text-align: right;\n",
       "    }\n",
       "</style>\n",
       "<table border=\"1\" class=\"dataframe\">\n",
       "  <thead>\n",
       "    <tr style=\"text-align: right;\">\n",
       "      <th></th>\n",
       "      <th>id</th>\n",
       "      <th>target</th>\n",
       "    </tr>\n",
       "  </thead>\n",
       "  <tbody>\n",
       "    <tr>\n",
       "      <th>0</th>\n",
       "      <td>900000</td>\n",
       "      <td>0.957320</td>\n",
       "    </tr>\n",
       "    <tr>\n",
       "      <th>1</th>\n",
       "      <td>900001</td>\n",
       "      <td>0.989653</td>\n",
       "    </tr>\n",
       "    <tr>\n",
       "      <th>2</th>\n",
       "      <td>900002</td>\n",
       "      <td>0.000062</td>\n",
       "    </tr>\n",
       "    <tr>\n",
       "      <th>3</th>\n",
       "      <td>900003</td>\n",
       "      <td>0.022352</td>\n",
       "    </tr>\n",
       "    <tr>\n",
       "      <th>4</th>\n",
       "      <td>900004</td>\n",
       "      <td>0.976022</td>\n",
       "    </tr>\n",
       "    <tr>\n",
       "      <th>...</th>\n",
       "      <td>...</td>\n",
       "      <td>...</td>\n",
       "    </tr>\n",
       "    <tr>\n",
       "      <th>699995</th>\n",
       "      <td>1599995</td>\n",
       "      <td>0.523001</td>\n",
       "    </tr>\n",
       "    <tr>\n",
       "      <th>699996</th>\n",
       "      <td>1599996</td>\n",
       "      <td>0.992446</td>\n",
       "    </tr>\n",
       "    <tr>\n",
       "      <th>699997</th>\n",
       "      <td>1599997</td>\n",
       "      <td>0.306104</td>\n",
       "    </tr>\n",
       "    <tr>\n",
       "      <th>699998</th>\n",
       "      <td>1599998</td>\n",
       "      <td>0.010068</td>\n",
       "    </tr>\n",
       "    <tr>\n",
       "      <th>699999</th>\n",
       "      <td>1599999</td>\n",
       "      <td>0.000011</td>\n",
       "    </tr>\n",
       "  </tbody>\n",
       "</table>\n",
       "<p>700000 rows × 2 columns</p>\n",
       "</div>"
      ],
      "text/plain": [
       "             id    target\n",
       "0        900000  0.957320\n",
       "1        900001  0.989653\n",
       "2        900002  0.000062\n",
       "3        900003  0.022352\n",
       "4        900004  0.976022\n",
       "...         ...       ...\n",
       "699995  1599995  0.523001\n",
       "699996  1599996  0.992446\n",
       "699997  1599997  0.306104\n",
       "699998  1599998  0.010068\n",
       "699999  1599999  0.000011\n",
       "\n",
       "[700000 rows x 2 columns]"
      ]
     },
     "execution_count": 23,
     "metadata": {},
     "output_type": "execute_result"
    }
   ],
   "source": [
    "submission['target'] = y_predict # np.array(y_predict).mean(axis=0)\n",
    "submission.to_csv('submission.csv', index=False)\n",
    "submission"
   ]
  },
  {
   "cell_type": "code",
   "execution_count": null,
   "id": "1d4996ef",
   "metadata": {
    "papermill": {
     "duration": 0.133313,
     "end_time": "2022-05-01T22:51:50.215414",
     "exception": false,
     "start_time": "2022-05-01T22:51:50.082101",
     "status": "completed"
    },
    "tags": []
   },
   "outputs": [],
   "source": []
  }
 ],
 "metadata": {
  "kernelspec": {
   "display_name": "Python 3",
   "language": "python",
   "name": "python3"
  },
  "language_info": {
   "codemirror_mode": {
    "name": "ipython",
    "version": 3
   },
   "file_extension": ".py",
   "mimetype": "text/x-python",
   "name": "python",
   "nbconvert_exporter": "python",
   "pygments_lexer": "ipython3",
   "version": "3.7.12"
  },
  "papermill": {
   "default_parameters": {},
   "duration": 7464.451311,
   "end_time": "2022-05-01T22:51:52.995002",
   "environment_variables": {},
   "exception": null,
   "input_path": "__notebook__.ipynb",
   "output_path": "__notebook__.ipynb",
   "parameters": {},
   "start_time": "2022-05-01T20:47:28.543691",
   "version": "2.3.4"
  },
  "widgets": {
   "application/vnd.jupyter.widget-state+json": {
    "state": {
     "cc063c3a620b4467876dc6038f3c3a26": {
      "model_module": "jupyterlab-plotly",
      "model_module_version": "^5.7.0",
      "model_name": "FigureModel",
      "state": {
       "_config": {
        "plotlyServerURL": "https://plot.ly"
       },
       "_data": [
        {
         "mode": "lines+markers",
         "name": "Best Score",
         "type": "scatter",
         "uid": "afaf52fe-968f-4679-b141-999e23e15a6d",
         "x": [],
         "y": []
        },
        {
         "marker": {
          "color": "gray"
         },
         "mode": "markers",
         "name": "Iter score",
         "type": "scatter",
         "uid": "d491c5b1-8598-4b0c-b41a-99b88746fcae",
         "x": [],
         "y": []
        }
       ],
       "_dom_classes": [],
       "_js2py_layoutDelta": {},
       "_js2py_pointsCallback": {},
       "_js2py_relayout": {},
       "_js2py_restyle": {},
       "_js2py_traceDeltas": {},
       "_js2py_update": {},
       "_last_layout_edit_id": 225,
       "_last_trace_edit_id": 225,
       "_layout": {
        "title": {
         "text": "Pipeline Search: Iteration vs. Log Loss Binary<br><sub>Gray marker indicates the score at current iteration</sub>"
        },
        "xaxis": {
         "rangemode": "tozero",
         "title": {
          "text": "Iteration"
         }
        },
        "yaxis": {
         "title": {
          "text": "Score"
         }
        }
       },
       "_model_module": "jupyterlab-plotly",
       "_model_module_version": "^5.7.0",
       "_model_name": "FigureModel",
       "_py2js_addTraces": {},
       "_py2js_animate": {},
       "_py2js_deleteTraces": {},
       "_py2js_moveTraces": {},
       "_py2js_relayout": null,
       "_py2js_removeLayoutProps": {},
       "_py2js_removeTraceProps": {},
       "_py2js_restyle": null,
       "_py2js_update": null,
       "_view_count": 0,
       "_view_module": "jupyterlab-plotly",
       "_view_module_version": "^5.7.0",
       "_view_name": "FigureView"
      }
     }
    },
    "version_major": 2,
    "version_minor": 0
   }
  }
 },
 "nbformat": 4,
 "nbformat_minor": 5
}
